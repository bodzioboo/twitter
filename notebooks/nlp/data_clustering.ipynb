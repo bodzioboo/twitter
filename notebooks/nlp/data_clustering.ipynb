{
 "cells": [
  {
   "cell_type": "code",
   "execution_count": 1,
   "metadata": {},
   "outputs": [],
   "source": [
    "import numpy as np\n",
    "import pandas as pd\n",
    "from matplotlib import pyplot as plt\n",
    "import collections\n",
    "import itertools\n",
    "from sklearn.feature_extraction.text import CountVectorizer\n",
    "from tqdm import trange\n",
    "from tqdm.notebook import tqdm\n",
    "import gc\n",
    "import nltk\n",
    "from nltk import word_tokenize\n",
    "from nltk.probability import DictionaryProbDist, FreqDist\n",
    "from sklearn.cluster import MiniBatchKMeans\n",
    "from sklearn.utils.extmath import randomized_svd"
   ]
  },
  {
   "cell_type": "code",
   "execution_count": null,
   "metadata": {},
   "outputs": [],
   "source": [
    "ft = dict()\n",
    "with open(\"/home/piotr/nlp/cc.pl.300.vec\",\"r\") as f:\n",
    "    next(f)\n",
    "    for line in tqdm(f):\n",
    "        elem = line.split()\n",
    "        ft[elem[0]] = np.array(elem[1:])"
   ]
  },
  {
   "cell_type": "code",
   "execution_count": null,
   "metadata": {},
   "outputs": [],
   "source": [
    "ft[\"idę\"]\n",
    "ft[\"pójdzie\"]\n",
    "ft[\"idą\"]\n",
    "ft[\"iść\"]"
   ]
  },
  {
   "cell_type": "code",
   "execution_count": 2,
   "metadata": {},
   "outputs": [
    {
     "name": "stderr",
     "output_type": "stream",
     "text": [
      "100%|██████████| 30/30 [00:38<00:00,  1.28s/it]\n"
     ]
    },
    {
     "data": {
      "text/plain": [
       "0"
      ]
     },
     "execution_count": 2,
     "metadata": {},
     "output_type": "execute_result"
    }
   ],
   "source": [
    "date = pd.Period('2020-03-20', 'D') \n",
    "tweet_data = pd.DataFrame()\n",
    "\n",
    "for _ in trange(30):\n",
    "    date += 1\n",
    "    datestr = date.strftime(\"%Y_%m_%d\")\n",
    "    \n",
    "    path = \"data/clean/gov_tweets_\" + datestr + \".csv\"\n",
    "    gov_data = pd.read_csv(path, header = 0, index_col = False, dtype = str)\n",
    "    gov_data[\"source\"] = \"government\"\n",
    "    gov_data = gov_data.loc[gov_data.created_at.notna()]\n",
    "    #gov_data = gov_data.drop(columns = [\"index\"])\n",
    "\n",
    "\n",
    "    path = \"data/clean/opp_tweets_\" + datestr + \".csv\"\n",
    "    opp_data = pd.read_csv(path, header = 0, index_col = False, dtype = str)\n",
    "    opp_data[\"source\"] = \"opposition\"\n",
    "    opp_data = opp_data.loc[opp_data.created_at.notna()]\n",
    "    #opp_data = opp_data.drop(columns = [\"index\"])\n",
    "\n",
    "    #merge the datasets\n",
    "    tweet_data = tweet_data.append(gov_data)\n",
    "    tweet_data = tweet_data.append(opp_data)\n",
    "    \n",
    "    #drop retweets\n",
    "    tweet_data = tweet_data.loc[tweet_data[\"retweet\"] == \"No\"]\n",
    "\n",
    "    #drop any problematic values\n",
    "    tweet_data.dropna(subset = [\"source\",\"preprocessed\",\"user-id_str\"], inplace = True)\n",
    "tweet_data = tweet_data.reset_index()\n",
    "tweets = tweet_data[\"preprocessed\"].tolist()\n",
    "gc.collect()"
   ]
  },
  {
   "cell_type": "markdown",
   "metadata": {},
   "source": [
    "Look at the most common tokens mentioned by partisans of each party that weren't among most common tokens mentioned by the partisans of the other party."
   ]
  },
  {
   "cell_type": "code",
   "execution_count": 3,
   "metadata": {},
   "outputs": [],
   "source": [
    "freq_gov = FreqDist(list(itertools.chain.from_iterable([tweet.split() \n",
    "                                          for i, tweet in enumerate(tweets) \n",
    "                                          if tweet_data[\"source\"][i] == \"government\"])))\n",
    "\n",
    "freq_opp = FreqDist(list(itertools.chain.from_iterable([tweet.split() \n",
    "                                          for i, tweet in enumerate(tweets) \n",
    "                                          if tweet_data[\"source\"][i] == \"opposition\"])))\n",
    "\n",
    "gov_words = [word for word in freq_gov.most_common(100) if  word[0] not in [elem[0] for elem in freq_opp.most_common(100)]]\n",
    "opp_words = [word for word in freq_opp.most_common(100) if  word[0] not in [elem[0] for elem in freq_gov.most_common(100)]]"
   ]
  },
  {
   "cell_type": "code",
   "execution_count": 4,
   "metadata": {
    "scrolled": true
   },
   "outputs": [
    {
     "data": {
      "image/png": "[encoded data removed]",
      "text/plain": [
       "<Figure size 1152x576 with 2 Axes>"
      ]
     },
     "metadata": {
      "needs_background": "light"
     },
     "output_type": "display_data"
    }
   ],
   "source": [
    "%matplotlib inline\n",
    "fig = plt.figure(figsize = (16, 8))\n",
    "ax = fig.add_subplot(1, 2, 1)\n",
    "ax.set_title(\"Most common words in government, but not in opposition\")\n",
    "ax.barh(y = [word[0] for word in gov_words], width = [word[1] for word in gov_words])\n",
    "ax = fig.add_subplot(1, 2, 2)\n",
    "ax.set_title(\"Most common words in opposition, but not in government\")\n",
    "ax.barh(y = [word[0] for word in opp_words], width = [word[1] for word in opp_words])\n",
    "plt.show()"
   ]
  },
  {
   "cell_type": "markdown",
   "metadata": {},
   "source": [
    "Tokenize tweets:"
   ]
  },
  {
   "cell_type": "code",
   "execution_count": 5,
   "metadata": {},
   "outputs": [],
   "source": [
    "tweets = [word_tokenize(tweet) for tweet in tweets]"
   ]
  },
  {
   "cell_type": "markdown",
   "metadata": {},
   "source": [
    "**Obtain sentence embeddings following steps from the paper [A Simple But Though-to-Beat Baseline for Sentence Embbedings](https://openreview.net/pdf?id=SyK00v5xx)**"
   ]
  },
  {
   "cell_type": "markdown",
   "metadata": {},
   "source": [
    "Calculate the probabilities of each token:"
   ]
  },
  {
   "cell_type": "code",
   "execution_count": 6,
   "metadata": {
    "scrolled": true
   },
   "outputs": [
    {
     "data": {
      "application/vnd.jupyter.widget-view+json": {
       "model_id": "f5374428570c486da62656907da9923d",
       "version_major": 2,
       "version_minor": 0
      },
      "text/plain": [
       "HBox(children=(FloatProgress(value=0.0, max=237978.0), HTML(value='')))"
      ]
     },
     "metadata": {},
     "output_type": "display_data"
    },
    {
     "name": "stdout",
     "output_type": "stream",
     "text": [
      "\n"
     ]
    }
   ],
   "source": [
    "fdist = FreqDist(itertools.chain.from_iterable(tweets))\n",
    "a = 10e-3\n",
    "count = sum(fdist.values())\n",
    "weights = {k:a/(a + count) for k, v in tqdm(fdist.items())}"
   ]
  },
  {
   "cell_type": "markdown",
   "metadata": {},
   "source": [
    "Load the word embedding vectors (Glove/fastText):"
   ]
  },
  {
   "cell_type": "code",
   "execution_count": 7,
   "metadata": {
    "scrolled": true
   },
   "outputs": [
    {
     "data": {
      "application/vnd.jupyter.widget-view+json": {
       "model_id": "2b119eee7db94d0187c4ce2ec1da9332",
       "version_major": 2,
       "version_minor": 0
      },
      "text/plain": [
       "HBox(children=(FloatProgress(value=1.0, bar_style='info', max=1.0), HTML(value='')))"
      ]
     },
     "metadata": {},
     "output_type": "display_data"
    },
    {
     "name": "stdout",
     "output_type": "stream",
     "text": [
      "\n"
     ]
    }
   ],
   "source": [
    "embed_file = \"/home/piotr/nlp/cc.pl.300.vec\"\n",
    "embed = dict()\n",
    "with open(embed_file, \"r\") as f:\n",
    "    for line in tqdm(f):\n",
    "        elem = line.split()\n",
    "        if elem[0] in fdist.keys():\n",
    "            embed[elem[0]] = np.array(elem[1:], dtype = np.float32)"
   ]
  },
  {
   "cell_type": "markdown",
   "metadata": {},
   "source": [
    "Remove tokens that weren't present in the embeddings dictionary:"
   ]
  },
  {
   "cell_type": "code",
   "execution_count": 8,
   "metadata": {},
   "outputs": [],
   "source": [
    "for i, tweet in enumerate(tweets):\n",
    "    tweets[i] = [word for word in tweet if word in embed.keys()]\n",
    "keep = [i for i in range(len(tweets)) if tweets[i] != []] #keep\n",
    "tweet_data = tweet_data.iloc[keep] \n",
    "tweets = [tweet for tweet in tweets if tweet != []] #delete empty tweets"
   ]
  },
  {
   "cell_type": "code",
   "execution_count": 9,
   "metadata": {},
   "outputs": [
    {
     "data": {
      "application/vnd.jupyter.widget-view+json": {
       "model_id": "33aac6b11a254cedb944c3edd5dfee30",
       "version_major": 2,
       "version_minor": 0
      },
      "text/plain": [
       "HBox(children=(FloatProgress(value=0.0, max=1066107.0), HTML(value='')))"
      ]
     },
     "metadata": {},
     "output_type": "display_data"
    },
    {
     "name": "stdout",
     "output_type": "stream",
     "text": [
      "\n"
     ]
    },
    {
     "data": {
      "text/plain": [
       "46"
      ]
     },
     "execution_count": 9,
     "metadata": {},
     "output_type": "execute_result"
    }
   ],
   "source": [
    "sentence_embeddings = []\n",
    "for sentence in tqdm(tweets):\n",
    "    embedding = np.array([embed[word] for word in sentence])\n",
    "    weight = np.array([weights[word] for word in sentence])\n",
    "    res = (embedding.T @ weight)/weight.shape[0]\n",
    "    sentence_embeddings.append(res)\n",
    "#bind into one matrix:\n",
    "sentence_embeddings = np.array(sentence_embeddings).T\n",
    "del(embed, weights)\n",
    "gc.collect()"
   ]
  },
  {
   "cell_type": "markdown",
   "metadata": {},
   "source": [
    "Run SVD for the embedding matrix to obtain left singular vectors:"
   ]
  },
  {
   "cell_type": "code",
   "execution_count": 10,
   "metadata": {},
   "outputs": [],
   "source": [
    "u, _, _ = randomized_svd(sentence_embeddings, 1)"
   ]
  },
  {
   "cell_type": "markdown",
   "metadata": {},
   "source": [
    "Remove first principal component of the matrix from each column vector:"
   ]
  },
  {
   "cell_type": "code",
   "execution_count": 11,
   "metadata": {},
   "outputs": [],
   "source": [
    "sentence_embeddings = sentence_embeddings - (u @ u.T @ sentence_embeddings)\n",
    "sentence_embeddings = sentence_embeddings.T"
   ]
  },
  {
   "cell_type": "code",
   "execution_count": 12,
   "metadata": {
    "scrolled": true
   },
   "outputs": [
    {
     "data": {
      "text/plain": [
       "MiniBatchKMeans(batch_size=100, compute_labels=True, init='k-means++',\n",
       "                init_size=None, max_iter=100, max_no_improvement=10,\n",
       "                n_clusters=8, n_init=3, random_state=None,\n",
       "                reassignment_ratio=0.01, tol=0.0, verbose=0)"
      ]
     },
     "execution_count": 12,
     "metadata": {},
     "output_type": "execute_result"
    }
   ],
   "source": [
    "cluster = MiniBatchKMeans(n_clusters = 8)\n",
    "cluster.fit(sentence_embeddings)"
   ]
  },
  {
   "cell_type": "markdown",
   "metadata": {},
   "source": [
    "Visualize the temporal and between-partisan distribution of the clusters:"
   ]
  },
  {
   "cell_type": "code",
   "execution_count": null,
   "metadata": {
    "scrolled": true
   },
   "outputs": [],
   "source": [
    "tweet_data[\"created_at\"] = pd.to_datetime(tweet_data[\"created_at\"], format = \"%a %b %d %H:%M:%S +0000 %Y\")#\n",
    "tweet_data[\"created_at\"] = tweet_data[\"created_at\"].dt.date"
   ]
  },
  {
   "cell_type": "code",
   "execution_count": 14,
   "metadata": {
    "scrolled": true
   },
   "outputs": [
    {
     "data": {
      "application/vnd.jupyter.widget-view+json": {
       "model_id": "66d8672db0a64caeb1d6613366c186fb",
       "version_major": 2,
       "version_minor": 0
      },
      "text/plain": [
       "HBox(children=(FloatProgress(value=0.0, max=30328.0), HTML(value='')))"
      ]
     },
     "metadata": {},
     "output_type": "display_data"
    },
    {
     "name": "stdout",
     "output_type": "stream",
     "text": [
      "\n"
     ]
    },
    {
     "data": {
      "application/vnd.jupyter.widget-view+json": {
       "model_id": "59375b87aabd4a0dae2ad5f886b00dd6",
       "version_major": 2,
       "version_minor": 0
      },
      "text/plain": [
       "HBox(children=(FloatProgress(value=0.0, max=5893.0), HTML(value='')))"
      ]
     },
     "metadata": {},
     "output_type": "display_data"
    },
    {
     "name": "stdout",
     "output_type": "stream",
     "text": [
      "\n"
     ]
    },
    {
     "data": {
      "application/vnd.jupyter.widget-view+json": {
       "model_id": "c709c1cfe5e44167bcbf59caf8d951a8",
       "version_major": 2,
       "version_minor": 0
      },
      "text/plain": [
       "HBox(children=(FloatProgress(value=0.0, max=995824.0), HTML(value='')))"
      ]
     },
     "metadata": {},
     "output_type": "display_data"
    },
    {
     "name": "stdout",
     "output_type": "stream",
     "text": [
      "\n"
     ]
    },
    {
     "data": {
      "application/vnd.jupyter.widget-view+json": {
       "model_id": "4ca54279ddee4e07aa829852521b8519",
       "version_major": 2,
       "version_minor": 0
      },
      "text/plain": [
       "HBox(children=(FloatProgress(value=0.0, max=1155.0), HTML(value='')))"
      ]
     },
     "metadata": {},
     "output_type": "display_data"
    },
    {
     "name": "stdout",
     "output_type": "stream",
     "text": [
      "\n"
     ]
    },
    {
     "data": {
      "application/vnd.jupyter.widget-view+json": {
       "model_id": "c05453972ffa48dda124a9046744b8a4",
       "version_major": 2,
       "version_minor": 0
      },
      "text/plain": [
       "HBox(children=(FloatProgress(value=0.0, max=2396.0), HTML(value='')))"
      ]
     },
     "metadata": {},
     "output_type": "display_data"
    },
    {
     "name": "stdout",
     "output_type": "stream",
     "text": [
      "\n"
     ]
    },
    {
     "data": {
      "application/vnd.jupyter.widget-view+json": {
       "model_id": "4730b599d2944a7791ed627ac293d3a4",
       "version_major": 2,
       "version_minor": 0
      },
      "text/plain": [
       "HBox(children=(FloatProgress(value=0.0, max=5350.0), HTML(value='')))"
      ]
     },
     "metadata": {},
     "output_type": "display_data"
    },
    {
     "name": "stdout",
     "output_type": "stream",
     "text": [
      "\n"
     ]
    },
    {
     "data": {
      "application/vnd.jupyter.widget-view+json": {
       "model_id": "557cc0f9646045d39a2fb34d74512f05",
       "version_major": 2,
       "version_minor": 0
      },
      "text/plain": [
       "HBox(children=(FloatProgress(value=0.0, max=11439.0), HTML(value='')))"
      ]
     },
     "metadata": {},
     "output_type": "display_data"
    },
    {
     "name": "stdout",
     "output_type": "stream",
     "text": [
      "\n"
     ]
    },
    {
     "data": {
      "application/vnd.jupyter.widget-view+json": {
       "model_id": "f37b619d90aa45b181c10148e4fa9804",
       "version_major": 2,
       "version_minor": 0
      },
      "text/plain": [
       "HBox(children=(FloatProgress(value=0.0, max=13722.0), HTML(value='')))"
      ]
     },
     "metadata": {},
     "output_type": "display_data"
    },
    {
     "name": "stdout",
     "output_type": "stream",
     "text": [
      "\n"
     ]
    }
   ],
   "source": [
    "dists = dict()\n",
    "for i in range(len(np.unique(cluster.labels_))):\n",
    "    txt = tweet_data.iloc[cluster.labels_ == i].preprocessed.tolist()\n",
    "    txt = [word_tokenize(word) for word in tqdm(txt)]\n",
    "    fdist = FreqDist(itertools.chain.from_iterable(txt))\n",
    "    dists[i] = fdist"
   ]
  },
  {
   "cell_type": "code",
   "execution_count": 16,
   "metadata": {
    "scrolled": false
   },
   "outputs": [
    {
     "data": {
      "image/png": "[encoded data removed]",
      "text/plain": [
       "<Figure size 1152x576 with 1 Axes>"
      ]
     },
     "metadata": {
      "needs_background": "light"
     },
     "output_type": "display_data"
    },
    {
     "data": {
      "image/png": "[encoded data removed]",
      "text/plain": [
       "<Figure size 1152x576 with 1 Axes>"
      ]
     },
     "metadata": {
      "needs_background": "light"
     },
     "output_type": "display_data"
    },
    {
     "data": {
      "image/png": "[encoded data removed]",
      "text/plain": [
       "<Figure size 1152x576 with 1 Axes>"
      ]
     },
     "metadata": {
      "needs_background": "light"
     },
     "output_type": "display_data"
    },
    {
     "data": {
      "image/png": "[encoded data removed]",
      "text/plain": [
       "<Figure size 1152x576 with 1 Axes>"
      ]
     },
     "metadata": {
      "needs_background": "light"
     },
     "output_type": "display_data"
    },
    {
     "data": {
      "image/png": "[encoded data removed]",
      "text/plain": [
       "<Figure size 1152x576 with 1 Axes>"
      ]
     },
     "metadata": {
      "needs_background": "light"
     },
     "output_type": "display_data"
    },
    {
     "data": {
      "image/png": "[encoded data removed]",
      "text/plain": [
       "<Figure size 1152x576 with 1 Axes>"
      ]
     },
     "metadata": {
      "needs_background": "light"
     },
     "output_type": "display_data"
    },
    {
     "data": {
      "image/png": "[encoded data removed]",
      "text/plain": [
       "<Figure size 1152x576 with 1 Axes>"
      ]
     },
     "metadata": {
      "needs_background": "light"
     },
     "output_type": "display_data"
    },
    {
     "data": {
      "image/png": "[encoded data removed]",
      "text/plain": [
       "<Figure size 1152x576 with 1 Axes>"
      ]
     },
     "metadata": {
      "needs_background": "light"
     },
     "output_type": "display_data"
    }
   ],
   "source": [
    "for i, fdist in enumerate(dists.values()):\n",
    "    fig = plt.figure(figsize = (16, 8))\n",
    "    ax = fig.add_subplot(2, 4, i + 1)\n",
    "    ax.set_title(f\"Distribution of vocabulary in cluster {i}\")\n",
    "    ax.barh(y = [word[0] for word in fdist.most_common(20)], width = [word[1] for word in fdist.most_common(20)])\n",
    "plt.show()"
   ]
  },
  {
   "cell_type": "code",
   "execution_count": null,
   "metadata": {
    "scrolled": true
   },
   "outputs": [],
   "source": [
    "counts = tweet_data.groupby([cluster.labels_, tweet_data[\"created_at\"], tweet_data[\"source\"]]).count()[\"id_str\"].reset_index()"
   ]
  },
  {
   "cell_type": "code",
   "execution_count": null,
   "metadata": {
    "scrolled": false
   },
   "outputs": [],
   "source": [
    "fig, ax = plt.subplots(2, 2, figsize = (16,10))\n",
    "ax = ax.ravel()\n",
    "for i in range(len(np.unique(cluster.labels_))):\n",
    "    ax[i].set_title(f\"Cluster number {i}\")\n",
    "    tmp = counts.loc[counts[\"level_0\"] == i]\n",
    "    #ax[i].set_ylim((0, max(counts.id_str) + int(0.8 * max(counts.id_str))))\n",
    "    ax[i].bar(tmp[tmp[\"source\"] == \"government\"][\"created_at\"], tmp[tmp[\"source\"] == \"government\"][\"id_str\"], \n",
    "              label = \"government\")\n",
    "    ax[i].bar(tmp[tmp[\"source\"] == \"opposition\"][\"created_at\"], tmp[tmp[\"source\"] == \"opposition\"][\"id_str\"], \n",
    "    label = \"opposition\", bottom = tmp[tmp[\"source\"] == \"government\"][\"id_str\"])\n",
    "    \n",
    "\n",
    "\n",
    "plt.tight_layout()"
   ]
  },
  {
   "cell_type": "code",
   "execution_count": null,
   "metadata": {},
   "outputs": [],
   "source": []
  }
 ],
 "metadata": {
  "kernelspec": {
   "display_name": "Python 3",
   "language": "python",
   "name": "python3"
  },
  "language_info": {
   "codemirror_mode": {
    "name": "ipython",
    "version": 3
   },
   "file_extension": ".py",
   "mimetype": "text/x-python",
   "name": "python",
   "nbconvert_exporter": "python",
   "pygments_lexer": "ipython3",
   "version": "3.7.4"
  }
 },
 "nbformat": 4,
 "nbformat_minor": 4
}
