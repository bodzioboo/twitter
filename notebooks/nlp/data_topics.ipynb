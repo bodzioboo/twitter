{
 "cells": [
  {
   "cell_type": "markdown",
   "metadata": {},
   "source": [
    "# Topic Clustering using Sentence Embeddings"
   ]
  },
  {
   "cell_type": "code",
   "execution_count": 38,
   "metadata": {},
   "outputs": [],
   "source": [
    "import warnings\n",
    "warnings.filterwarnings('ignore')\n",
    "import os\n",
    "import sys\n",
    "import pickle\n",
    "from itertools import zip_longest, chain, product, islice\n",
    "from functools import partial\n",
    "import gc\n",
    "import numpy as np\n",
    "import pandas as pd\n",
    "import re\n",
    "import json\n",
    "sys.path.append(\"/home/piotr/projects/twitter/src\")\n",
    "from twitter_tools.utils import read_files, clean_tweets\n",
    "from twitter_models.embeddings import KTopicModel\n",
    "from tqdm import tqdm\n",
    "from sklearn.model_selection import train_test_split\n",
    "import matplotlib.pyplot as plt\n",
    "\n",
    "\n",
    "from gensim.models.ldamulticore import LdaModel\n",
    "from gensim.models import KeyedVectors\n",
    "from gensim.corpora.dictionary import Dictionary\n",
    "from nltk import FreqDist, word_tokenize\n",
    "\n",
    "\n",
    "\n",
    "sys.path.append(\"/home/piotr/projects/twitter/src\")\n",
    "from twitter_tools.utils import read_files, clean_tweets\n",
    "from twitter_models.embeddings import KTopicModel\n",
    "\n",
    "\n",
    "\n",
    "from tqdm.notebook import tqdm\n",
    "tqdm.pandas()\n",
    "\n",
    "path_clean = \"/home/piotr/projects/twitter/data/clean\" #data path for reader\n",
    "path_results = \"/home/piotr/projects/twitter/notebooks/nlp/results/topics\" #path for results\n",
    "nonpolish_ids = json.load(open(os.path.join(path_clean, \"non_polish_ids.json\"), \"r\"))"
   ]
  },
  {
   "cell_type": "markdown",
   "metadata": {},
   "source": [
    "### Define topic modelling evaluation methods:"
   ]
  },
  {
   "cell_type": "markdown",
   "metadata": {},
   "source": [
    "Tokens not appearing as most common in other topics:"
   ]
  },
  {
   "cell_type": "code",
   "execution_count": 2,
   "metadata": {},
   "outputs": [],
   "source": [
    "def eval_topics(text, labels, n = 100):\n",
    "    dists = dict()\n",
    "    for i in np.unique(labels):\n",
    "        txt = text[labels == i]\n",
    "        freq = FreqDist(chain.from_iterable(txt))\n",
    "        dists[i] = freq.most_common(n)\n",
    "    dists_unique = dict()\n",
    "    for i, dist in dists.items():\n",
    "        #get vocabulary of all other topics but i\n",
    "        rest = []\n",
    "        _ = [rest.extend([el[0] for el in v]) for k, v in dists.items() if k != i]\n",
    "        #filter out those not included in the vocabulary of topic i\n",
    "        dists_unique[i] = {k:v for k, v in dist if k not in rest}\n",
    "    return dists_unique"
   ]
  },
  {
   "cell_type": "code",
   "execution_count": 3,
   "metadata": {},
   "outputs": [],
   "source": [
    "def clustering_summary(text, labels, source, **kwargs):\n",
    "    dists = eval_topics(text, labels, **kwargs)\n",
    "    dists_nocounts = {k:[\", \".join(list(v))] for k, v in dists.items()}\n",
    "    df =  pd.DataFrame.from_dict(dists_nocounts, orient = \"index\")\n",
    "    sources = pd.crosstab(labels, source)\n",
    "    df = pd.merge(df, sources, left_index = True, right_index = True)\n",
    "    df[\"count\"] = df[[\"gov\",\"opp\"]].sum(axis = 1)\n",
    "    df.columns = [\"tokens\",\"gov\",\"opp\",\"count\"]\n",
    "    return df, dists"
   ]
  },
  {
   "cell_type": "code",
   "execution_count": 36,
   "metadata": {},
   "outputs": [],
   "source": [
    "def data_filter(data, n, stopwords = None):\n",
    "    if not stopwords:\n",
    "        stopwords = []\n",
    "    data.loc[:,(\"lemmatized\")] = data.loc[:,(\"lemmatized\")].apply(lambda x: [word for word in x.split() if word not in stopwords])\n",
    "    data = data[data.lemmatized.apply(lambda x: len(x) >= n)] #longer than n\n",
    "    data.loc[:,(\"lemmatized\")] = data.loc[:,(\"lemmatized\")].apply(lambda x: \" \".join(x))\n",
    "    data[data[\"user-id_str\"].apply(lambda x: x not in nonpolish_ids)] #exclude non-polish users\n",
    "    data = data.loc[data.polish > 0.5] #more than 50% polish words\n",
    "    data = data[data.lemmatized.apply(lambda x: len(x) >= n)] #longer than n\n",
    "    data = data[np.logical_not(data.retweet)]\n",
    "    return data"
   ]
  },
  {
   "cell_type": "markdown",
   "metadata": {},
   "source": [
    "### K-Means Clustering of sentence embeddings, as defined in [A Simple But Though-to-Beat Baseline for Sentence Embbedings](https://openreview.net/pdf?id=SyK00v5xx)"
   ]
  },
  {
   "cell_type": "code",
   "execution_count": 29,
   "metadata": {},
   "outputs": [
    {
     "data": {
      "text/html": [
       "<div>\n",
       "<style scoped>\n",
       "    .dataframe tbody tr th:only-of-type {\n",
       "        vertical-align: middle;\n",
       "    }\n",
       "\n",
       "    .dataframe tbody tr th {\n",
       "        vertical-align: top;\n",
       "    }\n",
       "\n",
       "    .dataframe thead th {\n",
       "        text-align: right;\n",
       "    }\n",
       "</style>\n",
       "<table border=\"1\" class=\"dataframe\">\n",
       "  <thead>\n",
       "    <tr style=\"text-align: right;\">\n",
       "      <th></th>\n",
       "      <th>min_length</th>\n",
       "      <th>a</th>\n",
       "      <th>k</th>\n",
       "      <th>silhuette</th>\n",
       "      <th>intertia</th>\n",
       "    </tr>\n",
       "  </thead>\n",
       "  <tbody>\n",
       "    <tr>\n",
       "      <th>0</th>\n",
       "      <td>10</td>\n",
       "      <td>0.01000</td>\n",
       "      <td>5</td>\n",
       "      <td>-0.172491</td>\n",
       "      <td>5389.128331</td>\n",
       "    </tr>\n",
       "    <tr>\n",
       "      <th>1</th>\n",
       "      <td>10</td>\n",
       "      <td>0.01000</td>\n",
       "      <td>10</td>\n",
       "      <td>0.021512</td>\n",
       "      <td>5347.520719</td>\n",
       "    </tr>\n",
       "    <tr>\n",
       "      <th>2</th>\n",
       "      <td>10</td>\n",
       "      <td>0.01000</td>\n",
       "      <td>20</td>\n",
       "      <td>0.070773</td>\n",
       "      <td>5340.289891</td>\n",
       "    </tr>\n",
       "    <tr>\n",
       "      <th>3</th>\n",
       "      <td>10</td>\n",
       "      <td>0.00100</td>\n",
       "      <td>5</td>\n",
       "      <td>0.086591</td>\n",
       "      <td>5360.123096</td>\n",
       "    </tr>\n",
       "    <tr>\n",
       "      <th>4</th>\n",
       "      <td>10</td>\n",
       "      <td>0.00100</td>\n",
       "      <td>10</td>\n",
       "      <td>0.131579</td>\n",
       "      <td>5376.574619</td>\n",
       "    </tr>\n",
       "    <tr>\n",
       "      <th>5</th>\n",
       "      <td>10</td>\n",
       "      <td>0.00100</td>\n",
       "      <td>20</td>\n",
       "      <td>0.120643</td>\n",
       "      <td>5341.168861</td>\n",
       "    </tr>\n",
       "    <tr>\n",
       "      <th>6</th>\n",
       "      <td>10</td>\n",
       "      <td>0.00001</td>\n",
       "      <td>5</td>\n",
       "      <td>0.999472</td>\n",
       "      <td>5349.764723</td>\n",
       "    </tr>\n",
       "    <tr>\n",
       "      <th>7</th>\n",
       "      <td>10</td>\n",
       "      <td>0.00001</td>\n",
       "      <td>10</td>\n",
       "      <td>0.025021</td>\n",
       "      <td>5340.517457</td>\n",
       "    </tr>\n",
       "    <tr>\n",
       "      <th>8</th>\n",
       "      <td>10</td>\n",
       "      <td>0.00001</td>\n",
       "      <td>20</td>\n",
       "      <td>0.076038</td>\n",
       "      <td>5357.850270</td>\n",
       "    </tr>\n",
       "    <tr>\n",
       "      <th>9</th>\n",
       "      <td>5</td>\n",
       "      <td>0.01000</td>\n",
       "      <td>5</td>\n",
       "      <td>0.998604</td>\n",
       "      <td>25617.524550</td>\n",
       "    </tr>\n",
       "    <tr>\n",
       "      <th>10</th>\n",
       "      <td>5</td>\n",
       "      <td>0.01000</td>\n",
       "      <td>10</td>\n",
       "      <td>0.022603</td>\n",
       "      <td>25574.461741</td>\n",
       "    </tr>\n",
       "    <tr>\n",
       "      <th>11</th>\n",
       "      <td>5</td>\n",
       "      <td>0.01000</td>\n",
       "      <td>20</td>\n",
       "      <td>0.094053</td>\n",
       "      <td>25560.860685</td>\n",
       "    </tr>\n",
       "    <tr>\n",
       "      <th>12</th>\n",
       "      <td>5</td>\n",
       "      <td>0.00100</td>\n",
       "      <td>5</td>\n",
       "      <td>0.998729</td>\n",
       "      <td>25533.469231</td>\n",
       "    </tr>\n",
       "    <tr>\n",
       "      <th>13</th>\n",
       "      <td>5</td>\n",
       "      <td>0.00100</td>\n",
       "      <td>10</td>\n",
       "      <td>0.040009</td>\n",
       "      <td>25521.266881</td>\n",
       "    </tr>\n",
       "    <tr>\n",
       "      <th>14</th>\n",
       "      <td>5</td>\n",
       "      <td>0.00100</td>\n",
       "      <td>20</td>\n",
       "      <td>0.126403</td>\n",
       "      <td>25430.012128</td>\n",
       "    </tr>\n",
       "    <tr>\n",
       "      <th>15</th>\n",
       "      <td>5</td>\n",
       "      <td>0.00001</td>\n",
       "      <td>5</td>\n",
       "      <td>0.319066</td>\n",
       "      <td>25534.168169</td>\n",
       "    </tr>\n",
       "    <tr>\n",
       "      <th>16</th>\n",
       "      <td>5</td>\n",
       "      <td>0.00001</td>\n",
       "      <td>10</td>\n",
       "      <td>0.098611</td>\n",
       "      <td>25603.263309</td>\n",
       "    </tr>\n",
       "    <tr>\n",
       "      <th>17</th>\n",
       "      <td>5</td>\n",
       "      <td>0.00001</td>\n",
       "      <td>20</td>\n",
       "      <td>0.132514</td>\n",
       "      <td>25633.230198</td>\n",
       "    </tr>\n",
       "  </tbody>\n",
       "</table>\n",
       "</div>"
      ],
      "text/plain": [
       "    min_length        a   k  silhuette      intertia\n",
       "0           10  0.01000   5  -0.172491   5389.128331\n",
       "1           10  0.01000  10   0.021512   5347.520719\n",
       "2           10  0.01000  20   0.070773   5340.289891\n",
       "3           10  0.00100   5   0.086591   5360.123096\n",
       "4           10  0.00100  10   0.131579   5376.574619\n",
       "5           10  0.00100  20   0.120643   5341.168861\n",
       "6           10  0.00001   5   0.999472   5349.764723\n",
       "7           10  0.00001  10   0.025021   5340.517457\n",
       "8           10  0.00001  20   0.076038   5357.850270\n",
       "9            5  0.01000   5   0.998604  25617.524550\n",
       "10           5  0.01000  10   0.022603  25574.461741\n",
       "11           5  0.01000  20   0.094053  25560.860685\n",
       "12           5  0.00100   5   0.998729  25533.469231\n",
       "13           5  0.00100  10   0.040009  25521.266881\n",
       "14           5  0.00100  20   0.126403  25430.012128\n",
       "15           5  0.00001   5   0.319066  25534.168169\n",
       "16           5  0.00001  10   0.098611  25603.263309\n",
       "17           5  0.00001  20   0.132514  25633.230198"
      ]
     },
     "execution_count": 29,
     "metadata": {},
     "output_type": "execute_result"
    }
   ],
   "source": [
    "res = pickle.load(open(os.path.join(path_results, \"results.p\"), \"rb\"))\n",
    "res = [elem for elem in res if \"fit\" in elem.keys()]\n",
    "_  = [elem.update(elem.pop(\"fit\")) for elem in res]\n",
    "pd.DataFrame(res)"
   ]
  },
  {
   "cell_type": "markdown",
   "metadata": {},
   "source": [
    "Load the best clustering:"
   ]
  },
  {
   "cell_type": "code",
   "execution_count": 79,
   "metadata": {
    "scrolled": false
   },
   "outputs": [
    {
     "data": {
      "application/vnd.jupyter.widget-view+json": {
       "model_id": "263830daac2443218c4ef0d2972fd6ac",
       "version_major": 2,
       "version_minor": 0
      },
      "text/plain": [
       "HBox(children=(FloatProgress(value=1.0, bar_style='info', max=1.0), HTML(value='')))"
      ]
     },
     "metadata": {},
     "output_type": "display_data"
    },
    {
     "name": "stdout",
     "output_type": "stream",
     "text": [
      "\n"
     ]
    }
   ],
   "source": [
    "data = pd.DataFrame()\n",
    "for dat in tqdm(read_files(path_clean, 84, filter_fun = partial(data_filter, n = 5))):\n",
    "    data = data.append(dat[[\"full_text\", \"id_str\",\"user-id_str\", \"source\", \"lemmatized\"]])\n",
    "cls = json.load(open(os.path.join(path_results, 'cluster_k_5_n_5_a_0.001.json')))\n",
    "data[\"cluster\"] = data[\"full_text\"].map(cls)"
   ]
  },
  {
   "cell_type": "code",
   "execution_count": 77,
   "metadata": {},
   "outputs": [],
   "source": [
    "vocab = chain.from_iterable([elem.split() for elem in data[\"tokenized\"][data[\"cluster\"] == 1.0].tolist()])\n",
    "fd = FreqDist(vocab)"
   ]
  },
  {
   "cell_type": "code",
   "execution_count": 78,
   "metadata": {
    "scrolled": true
   },
   "outputs": [
    {
     "data": {
      "text/plain": [
       "[('na', 57769),\n",
       " ('to', 54028),\n",
       " ('nie', 42743),\n",
       " ('się', 39388),\n",
       " ('że', 28180),\n",
       " ('do', 24584),\n",
       " ('jest', 22297),\n",
       " ('jak', 19718),\n",
       " ('co', 15352),\n",
       " ('po', 12470)]"
      ]
     },
     "execution_count": 78,
     "metadata": {},
     "output_type": "execute_result"
    }
   ],
   "source": [
    "fd.most_common(10)"
   ]
  },
  {
   "cell_type": "code",
   "execution_count": 42,
   "metadata": {},
   "outputs": [],
   "source": [
    "\n",
    "df, dists = clustering_summary(data.dropna(subset = [\"cluster\"]).full_text.apply(lambda x: x.split()), \n",
    "                          data.dropna(subset = [\"cluster\"]).cluster.astype(int),\n",
    "                       data.dropna(subset = [\"cluster\"]).source)"
   ]
  },
  {
   "cell_type": "code",
   "execution_count": 15,
   "metadata": {},
   "outputs": [],
   "source": [
    "file = \"topics_model_k10_d85_sample\"\n",
    "if os.path.isfile(os.path.join(\"results_new\", file + \".p\")):\n",
    "    model_topics = pickle.load(open(os.path.join(\"results_new\", file + \".p\"),\"rb\"))\n",
    "    summary = pd.read_csv(os.path.join(\"results_new\", file + \".csv\"))\n",
    "else:\n",
    "    model_topics = KTopicsModel(k = 10, path_embeddings = \"/home/piotr/nlp/cc.pl.300.vec\", dask_split = 200)\n",
    "    model_topics.fit(text)\n",
    "    pickle.dump(model_topics, open(os.path.join(\"results_new\", file + \".p\"),\"wb\"))\n",
    "    summary = clustering_summary(text[model_topics.keepind], model_topics.labels, source[model_topics.keepind])\n",
    "    summary.to_csv(os.path.join(\"results_new\", file + \".csv\"))"
   ]
  },
  {
   "cell_type": "markdown",
   "metadata": {},
   "source": [
    "#### Distribution of the topics"
   ]
  },
  {
   "cell_type": "code",
   "execution_count": 56,
   "metadata": {},
   "outputs": [
    {
     "data": {
      "image/png": "[encoded data removed]",
      "text/plain": [
       "<Figure size 720x576 with 1 Axes>"
      ]
     },
     "metadata": {
      "needs_background": "light"
     },
     "output_type": "display_data"
    }
   ],
   "source": [
    "fig, ax = plt.subplots(1, 1, figsize = (10,8))\n",
    "pd.value_counts(data.cluster, normalize = True).plot.bar(ax = ax)\n",
    "ax.set_xlabel(\"Topic number\")\n",
    "ax.set_ylabel(\"Proportion of tweets\")\n",
    "plt.show()"
   ]
  },
  {
   "cell_type": "code",
   "execution_count": 61,
   "metadata": {
    "scrolled": false
   },
   "outputs": [
    {
     "data": {
      "image/png": "[encoded data removed]",
      "text/plain": [
       "<Figure size 720x720 with 1 Axes>"
      ]
     },
     "metadata": {
      "needs_background": "light"
     },
     "output_type": "display_data"
    }
   ],
   "source": [
    "fig, ax = plt.subplots(1, 1, figsize = (10,10))\n",
    "pd.crosstab(data.cluster, data.source, normalize = \"index\").plot.bar(ax = ax, stacked = True)\n",
    "ax.set_xlabel(\"Topic number\")\n",
    "ax.legend([\"Government\", \"Opposition\"])\n",
    "plt.show()"
   ]
  },
  {
   "cell_type": "markdown",
   "metadata": {},
   "source": [
    "#### Most common \"unique\" tokens in each topic:"
   ]
  },
  {
   "cell_type": "code",
   "execution_count": 62,
   "metadata": {
    "scrolled": false
   },
   "outputs": [
    {
     "data": {
      "image/png": "[encoded data removed]",
      "text/plain": [
       "<Figure size 1152x1152 with 1 Axes>"
      ]
     },
     "metadata": {
      "needs_background": "light"
     },
     "output_type": "display_data"
    },
    {
     "data": {
      "image/png": "[encoded data removed]",
      "text/plain": [
       "<Figure size 1152x1152 with 1 Axes>"
      ]
     },
     "metadata": {
      "needs_background": "light"
     },
     "output_type": "display_data"
    },
    {
     "data": {
      "image/png": "[encoded data removed]",
      "text/plain": [
       "<Figure size 1152x1152 with 1 Axes>"
      ]
     },
     "metadata": {
      "needs_background": "light"
     },
     "output_type": "display_data"
    },
    {
     "data": {
      "image/png": "[encoded data removed]",
      "text/plain": [
       "<Figure size 1152x1152 with 1 Axes>"
      ]
     },
     "metadata": {
      "needs_background": "light"
     },
     "output_type": "display_data"
    },
    {
     "data": {
      "image/png": "[encoded data removed]",
      "text/plain": [
       "<Figure size 1152x1152 with 1 Axes>"
      ]
     },
     "metadata": {
      "needs_background": "light"
     },
     "output_type": "display_data"
    },
    {
     "data": {
      "image/png": "[encoded data removed]",
      "text/plain": [
       "<Figure size 1152x1152 with 1 Axes>"
      ]
     },
     "metadata": {
      "needs_background": "light"
     },
     "output_type": "display_data"
    },
    {
     "data": {
      "image/png": "[encoded data removed]",
      "text/plain": [
       "<Figure size 1152x1152 with 1 Axes>"
      ]
     },
     "metadata": {
      "needs_background": "light"
     },
     "output_type": "display_data"
    },
    {
     "data": {
      "image/png": "[encoded data removed]",
      "text/plain": [
       "<Figure size 1152x1152 with 1 Axes>"
      ]
     },
     "metadata": {
      "needs_background": "light"
     },
     "output_type": "display_data"
    },
    {
     "data": {
      "image/png": "[encoded data removed]",
      "text/plain": [
       "<Figure size 1152x1152 with 1 Axes>"
      ]
     },
     "metadata": {
      "needs_background": "light"
     },
     "output_type": "display_data"
    },
    {
     "data": {
      "image/png": "[encoded data removed]",
      "text/plain": [
       "<Figure size 1152x1152 with 1 Axes>"
      ]
     },
     "metadata": {
      "needs_background": "light"
     },
     "output_type": "display_data"
    }
   ],
   "source": [
    "for i, (k, fdist) in enumerate(dists.items()):\n",
    "    fig = plt.figure(figsize = (16, 16))\n",
    "    ax = fig.add_subplot(4, 3, i + 1)\n",
    "    ax.set_title(f\"Unique most common tokens in topic {k}\")\n",
    "    ax.barh(y = list(fdist.keys())[:10], width = list(fdist.values())[:10])\n",
    "plt.show()"
   ]
  },
  {
   "cell_type": "markdown",
   "metadata": {},
   "source": [
    "### Latent Dirchlet Allocation"
   ]
  },
  {
   "cell_type": "code",
   "execution_count": null,
   "metadata": {
    "scrolled": false
   },
   "outputs": [],
   "source": [
    "if os.path.isfile(\"results/lda_k10_d85.p\"):\n",
    "    lda = pickle.load(open(\"results/lda_k10_d85.p\",\"rb\"))\n",
    "    tweet_dictionary = Dictionary(data.full_text.tolist())\n",
    "    tweets_corp = [tweet_dictionary.doc2bow(tweet) for tweet in data.full_text.tolist()]\n",
    "else:\n",
    "    tweet_dictionary = Dictionary(text)\n",
    "    tweets_corp = [tweet_dictionary.doc2bow(tweet) for tweet in data.full_text.tolist()]\n",
    "    lda = LdaModel(tweets_corp, num_topics = 10, id2word = tweet_dictionary)\n",
    "    pickle.dump(lda, open(\"results/lda_k10_d85.p\",\"wb\"))"
   ]
  },
  {
   "cell_type": "code",
   "execution_count": null,
   "metadata": {
    "scrolled": false
   },
   "outputs": [],
   "source": [
    "topics = np.array([tweet[max(range(len(tweet)), key = lambda i: tweet[i][1])][0] for tweet in tqdm(lda[tweets_corp])])"
   ]
  },
  {
   "cell_type": "markdown",
   "metadata": {},
   "source": [
    "#### Distribution of the topics:"
   ]
  },
  {
   "cell_type": "code",
   "execution_count": null,
   "metadata": {},
   "outputs": [],
   "source": [
    "fig, ax = plt.subplots(1, 1, figsize = (10,8))\n",
    "pd.value_counts(topics, normalize = True).plot.bar(ax = ax)\n",
    "ax.set_xlabel(\"Topic number\")\n",
    "ax.set_ylabel(\"Proportion of tweets\")\n",
    "plt.show()"
   ]
  },
  {
   "cell_type": "code",
   "execution_count": null,
   "metadata": {},
   "outputs": [],
   "source": [
    "fig, ax = plt.subplots(1, 1, figsize = (10,10))\n",
    "pd.crosstab(topics, source, normalize = True).plot.bar(ax = ax, stacked = True)\n",
    "ax.set_xlabel(\"Topic number\")\n",
    "ax.legend([\"Government\", \"Opposition\"])\n",
    "plt.show()"
   ]
  },
  {
   "cell_type": "markdown",
   "metadata": {},
   "source": [
    "#### Most common \"unique\" tokens in each topic:"
   ]
  },
  {
   "cell_type": "code",
   "execution_count": null,
   "metadata": {
    "scrolled": false
   },
   "outputs": [],
   "source": [
    "dists = eval_topics(text, topics)\n",
    "for i, (k, fdist) in enumerate(dists.items()):\n",
    "    fig = plt.figure(figsize = (16, 16))\n",
    "    ax = fig.add_subplot(4, 3, i + 1)\n",
    "    ax.set_title(f\"Unique most common tokens in topic {k}\")\n",
    "    ax.barh(y = list(fdist.keys())[:10], width = list(fdist.values())[:10])\n",
    "plt.show()"
   ]
  },
  {
   "cell_type": "code",
   "execution_count": null,
   "metadata": {},
   "outputs": [],
   "source": [
    "fig, ax = plt.subplots(1,1,figsize = (10,8))\n",
    "korona_counts = np.array([set(w).intersection(topic_vocab[\"wirus\"]) != set() for w in text])\n",
    "pd.crosstab(topics, korona_counts, normalize = \"index\").plot.bar(ax = ax, stacked = True)\n",
    "ax.set_xlabel(\"Topic number\")\n",
    "ax.legend(title = \"Contains koronawirus?\")\n",
    "plt.show()"
   ]
  },
  {
   "cell_type": "code",
   "execution_count": null,
   "metadata": {},
   "outputs": [],
   "source": [
    "fig, ax = plt.subplots(1, 1, figsize = (10,8))\n",
    "wybory_counts = np.array([set(w).intersection(topic_vocab[\"wybory\"]) != set() for w in text])\n",
    "pd.crosstab(topics, wybory_counts, normalize = \"index\").plot.bar(ax = ax, stacked = True)\n",
    "ax.legend(title = \"Contains election vocabulary?\")\n",
    "ax.set_xlabel(\"Topic number\")\n",
    "plt.show()"
   ]
  }
 ],
 "metadata": {
  "kernelspec": {
   "display_name": "Python [conda env:nlp]",
   "language": "python",
   "name": "conda-env-nlp-py"
  },
  "language_info": {
   "codemirror_mode": {
    "name": "ipython",
    "version": 3
   },
   "file_extension": ".py",
   "mimetype": "text/x-python",
   "name": "python",
   "nbconvert_exporter": "python",
   "pygments_lexer": "ipython3",
   "version": "3.8.3"
  }
 },
 "nbformat": 4,
 "nbformat_minor": 4
}
