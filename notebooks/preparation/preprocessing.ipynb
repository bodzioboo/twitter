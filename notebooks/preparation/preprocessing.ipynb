{
 "cells": [
  {
   "cell_type": "markdown",
   "metadata": {},
   "source": [
    "# Preprocessing of the Twitter Data"
   ]
  },
  {
   "cell_type": "markdown",
   "metadata": {},
   "source": [
    "**Import libraries**:"
   ]
  },
  {
   "cell_type": "code",
   "execution_count": 1,
   "metadata": {},
   "outputs": [],
   "source": [
    "import sys\n",
    "import os\n",
    "import logging\n",
    "import pickle\n",
    "import json\n",
    "import pandas as pd\n",
    "import numpy as np\n",
    "from collections import defaultdict\n",
    "from tqdm.notebook import tqdm\n",
    "import re\n",
    "from sklearn.ensemble import IsolationForest\n",
    "from collections import defaultdict\n",
    "import pdb\n",
    "import gc\n",
    "from functools import partial\n",
    "import ast\n",
    "from matplotlib import pyplot as plt\n",
    "from sklearn.model_selection import StratifiedShuffleSplit"
   ]
  },
  {
   "cell_type": "markdown",
   "metadata": {},
   "source": [
    "**Setup logging:**"
   ]
  },
  {
   "cell_type": "code",
   "execution_count": 2,
   "metadata": {},
   "outputs": [],
   "source": [
    "logger = logging.getLogger(__name__)\n",
    "logger.setLevel(logging.INFO)"
   ]
  },
  {
   "cell_type": "markdown",
   "metadata": {},
   "source": [
    "**Set up path**"
   ]
  },
  {
   "cell_type": "code",
   "execution_count": 3,
   "metadata": {},
   "outputs": [],
   "source": [
    "path = \"/home/piotr/projects/twitter\"\n",
    "path_preprocessed = os.path.join(path, 'data/clean')\n",
    "sys.path.append(os.path.join(path, \"src\"))\n",
    "ndays = 84"
   ]
  },
  {
   "cell_type": "markdown",
   "metadata": {},
   "source": [
    "## Lemmatization:"
   ]
  },
  {
   "cell_type": "markdown",
   "metadata": {},
   "source": [
    "The preprocessing and lemmatization is performed through the `Preprocessor` class, which performs the following task:\n",
    "- ensures integrity of each record, drops it if any problems occur - for example, unexpected data types key fields containing text, user IDs or Tweet date\n",
    "- drops Tweets marked as having a different language than Polish or undefined\n",
    "- removes URLs, numbers, emojis and user mentions from each Tweet's text\n",
    "- replaces hashtags included in Tweets with words\n",
    "- marks the retweets in the dataset\n",
    "- tokenizes the text, performs POS tagging and lemmatization on each of the texts using the preprocessing Pipeline from the `stanza` library. Two separate fields are kept - `tokenized` for tokenized data after the preprocessing steps mentioned above and `lemmatized` for fully lemmatized data\n",
    "- no stopword removal is performed at this point\n",
    "- computes the proportion of Polish tokens in the data using the spell checker from the `pyenchant` library"
   ]
  },
  {
   "cell_type": "markdown",
   "metadata": {},
   "source": [
    "First, I set up the parameters for lemmatization - file directories, chunk size for the preprocessor, etc."
   ]
  },
  {
   "cell_type": "code",
   "execution_count": 4,
   "metadata": {},
   "outputs": [],
   "source": [
    "keep_cols = ['full_text', 'created_at', 'id_str', 'user-id_str'] #columns to be kept\n",
    "path_record = os.path.join(path, \"data/clean/record.json\") #path to store records\n",
    "chunk_size = 10000 #chunk size for CSV reader\n",
    "pos_batch_size = 1000 #batch size for POS tagger"
   ]
  },
  {
   "cell_type": "code",
   "execution_count": 5,
   "metadata": {},
   "outputs": [],
   "source": [
    "from twitter_tools.preprocessing import Preprocessor\n",
    "def preprocess(path_raw, path_preprocessed, preprocessor, keep_cols, path_record = None, \n",
    "               chunk_size = 10000, pos_batch_size = 1000):\n",
    "    \"\"\"\n",
    "    Takes preprocessor as argument to avoid re-instantiation.\n",
    "    \"\"\"\n",
    "    #record:\n",
    "    if path_record and os.path.isfile(path_record):\n",
    "        record = json.load(open(path_record, \"r\"))\n",
    "        record = defaultdict(lambda: 0, record)\n",
    "    else:\n",
    "        record = defaultdict(lambda: 0)\n",
    "    names = pd.read_csv(path_raw, dtype = str, nrows = 1, index_col = 0).columns #get column name\n",
    "    for df in pd.read_csv(path_raw, iterator = True, dtype = str, \n",
    "                           skiprows = record[path_raw] + 1,\n",
    "                           chunksize = chunk_size, index_col = 0, \n",
    "                           names = names):\n",
    "        res = preprocessor.preprocess(df)\n",
    "        \n",
    "        if res is not None:\n",
    "            \n",
    "            if os.path.isfile(path_preprocessed):\n",
    "                res.to_csv(path_preprocessed, mode = \"a\", header = False) #append if exists\n",
    "            else:\n",
    "                res.to_csv(path_preprocessed, mode = \"w\") #else write to new\n",
    "\n",
    "            record[path_raw] += chunk_size\n",
    "\n",
    "            if path_record:\n",
    "                json.dump(dict(record), open(path_record, \"w\"))"
   ]
  },
  {
   "cell_type": "markdown",
   "metadata": {},
   "source": [
    "#### Government Tweets - February-May"
   ]
  },
  {
   "cell_type": "code",
   "execution_count": 12,
   "metadata": {},
   "outputs": [],
   "source": [
    "if not os.listdir(path_preprocessed):\n",
    "    path_raw = '/media/piotr/SAMSUNG/data/gov'\n",
    "    preprocessor = Preprocessor(keep_cols = keep_cols, pos_batch_size = pos_batch_size) #init\n",
    "    files = [f for f in os.listdir(path_raw) if 'csv' in f]\n",
    "    for file in tqdm(files):\n",
    "        preprocess(os.path.join(path_raw, file), os.path.join(path_preprocessed, file), preprocessor, \n",
    "                   keep_cols, path_record = path_record, chunk_size = 10000, pos_batch_size = 1000)\n",
    "        gc.collect()"
   ]
  },
  {
   "cell_type": "markdown",
   "metadata": {},
   "source": [
    "#### Opposition Tweets - February-May"
   ]
  },
  {
   "cell_type": "code",
   "execution_count": 13,
   "metadata": {},
   "outputs": [],
   "source": [
    "if not os.listdir(path_preprocessed):\n",
    "    path_raw = '/media/piotr/SAMSUNG/data/opp'\n",
    "    preprocessor = Preprocessor(keep_cols = keep_cols, pos_batch_size = pos_batch_size) #init\n",
    "    files = [f for f in os.listdir(path_raw) if 'csv' in f]\n",
    "    for file in tqdm(files):\n",
    "        preprocess(os.path.join(path_raw, file), os.path.join(path_preprocessed, file), preprocessor, \n",
    "                   keep_cols, path_record = path_record, chunk_size = 10000, pos_batch_size = 1000)\n",
    "        gc.collect()"
   ]
  },
  {
   "cell_type": "markdown",
   "metadata": {},
   "source": [
    "## Cleaning"
   ]
  },
  {
   "cell_type": "markdown",
   "metadata": {},
   "source": [
    "#### Load the data:"
   ]
  },
  {
   "cell_type": "code",
   "execution_count": 7,
   "metadata": {},
   "outputs": [
    {
     "data": {
      "application/vnd.jupyter.widget-view+json": {
       "model_id": "902e98966ded4464be20341edf940503",
       "version_major": 2,
       "version_minor": 0
      },
      "text/plain": [
       "HBox(children=(FloatProgress(value=1.0, bar_style='info', max=1.0), HTML(value='')))"
      ]
     },
     "metadata": {},
     "output_type": "display_data"
    },
    {
     "name": "stdout",
     "output_type": "stream",
     "text": [
      "\n"
     ]
    }
   ],
   "source": [
    "from twitter_tools.utils import read_files\n",
    "data = pd.DataFrame()\n",
    "for df in tqdm(read_files(path_preprocessed, ndays = ndays, prefixes = ['opp', 'gov'], dtype = str)):\n",
    "    data = data.append(df)\n",
    "data.loc[:,('polish')] = data.loc[:,('polish')].astype(float)"
   ]
  },
  {
   "cell_type": "markdown",
   "metadata": {},
   "source": [
    "- **Removing Tweets in a different language** - Some of the users scraped were using other languages than Polish, rendering any form of NLP analysis of their content difficult. To remove them, I analyzed the average proportion of non-Polish tokens in the lemmatized version of their tweets:"
   ]
  },
  {
   "cell_type": "code",
   "execution_count": 47,
   "metadata": {},
   "outputs": [
    {
     "name": "stdout",
     "output_type": "stream",
     "text": [
      "Number of non-Polish users 53\n",
      "Example tweets:\n",
      "-fotografía photography nature naturaleza life dreams\n",
      "-odilon redon la sphere globe\n",
      "-photography nikon nikonglobal nikonphotography nikonnofilter\n",
      "-emailextractor webscraping targetedemail\n",
      "-vladimir putin odhaľuje západ ovládajú satanskí pedofili\n",
      "-just posted трамп выпускает джина из бутылки on reddit\n",
      "-china lied people died make chinapay chinazi virus\n",
      "-by marcin gorski\n",
      "-presne podľa plánu kalergi zbaviť sa inteligentejšej rasy krížením rás vytvori ť negroidniho podčloveka bez práv nároku len poslušného otroka\n",
      "-cdnpoli\n",
      "-kwsk\n",
      "-oh\n",
      "-aj tu sa ukázalo potvrdilo že demokracia liberálneko kapitalizmu je vedúca do záhuby ako to už preukázalo minulosti čo vyústilo do vojen svetových kríz kde zahyuli miliónov civilistov mene bankových zbrojných korporácií\n",
      "-aliennation\n",
      "-mjesečev put utočište\n",
      "-kraków kazimierz\n",
      "-idd jkucharski covidbc covid bcpoli cdnpoli\n",
      "-daniel volkov\n",
      "-rusi zachraňujú zadky amíkom\n",
      "-just posted как не признанных мая отмечают on reddit\n",
      "-dobranoc\n",
      "-just posted слуги народа не смогли on reddit\n",
      "-just posted пьяный священни к харькове on reddit\n",
      "-via\n",
      "-anglosasov liberalistov nezaujímajú ľudia ale len peniaze majetky chamtivosť vojny minúty\n",
      "-treptaju tvoga oka prolazi vrijeme\n",
      "-just posted он обрывал телефо н белого дома on reddit\n",
      "-just posted россия стремительно идет нищету on reddit\n",
      "-zdzislaw beksinski\n",
      "-mai berlin\n",
      "-drawing drawings art artofinstagram illustration illustrator pictureoftheday design sketch sketchbook graphicdesign graphic art artwork lines doodlesketch brush pen design designinspiration inspiration pattern brush digitalpaint painting draft drafting\n",
      "-sickof hajdu tam\n",
      "-cafouillage\n",
      "-no\n",
      "-fotografía photography blackandwhitephotography\n",
      "-passionnement jevotegoujon\n",
      "-china lied people died\n",
      "-ashleyspirals\n",
      "-just posted путин первый космосе on reddit\n",
      "-quoteoftheday\n",
      "-china ccp china lied people died covid coronaviruschina coronaviruspandemic xi virus globalpandemic china bubble globaleconomy\n",
      "-biljana radojicic\n",
      "-kraków\n",
      "-business iscard business flyer businessflyer\n",
      "-fruška\n",
      "-všetko sa dá keď sa chce ale provízie sa uz delia\n",
      "-danny mcshane\n",
      "-cc\n",
      "-yes coronavirus coronavirus pandemic coronavirus outbreak ccpvirus ccplied people died ccpcoronavirus ccpvirus coronavirus ccp community spread communitytransmission wuhan wuhan coronavius wuhan coronavirus outbreak ccpchina human disaster global pandemic\n",
      "-kurt jackson via ewa krepicz\n"
     ]
    }
   ],
   "source": [
    "path_drop = os.path.join(path, 'results/cleaning/users_drop_ids.json')\n",
    "from twitter_tools.utils import read_files\n",
    "if not os.path.isfile(path_drop):\n",
    "    #Get ids of \"nonpolish\" users, i.e. those with average number of Polish tokens below 0.3\n",
    "    polishness = data.groupby(['user-id_str']).mean()['polish']\n",
    "    drop_ids = polishness[polishness < 0.3].index.tolist()\n",
    "    print(f\"Number of non-Polish users {len(drop_ids)}\")\n",
    "    print(\"Example tweets:\")\n",
    "    tweets_nonpolish = data[data['user-id_str'].apply(lambda x: x in drop_ids)]\n",
    "    np.random.seed = 1234\n",
    "    for i in np.random.choice(np.arange(0, tweets_nonpolish.shape[0]), 50):\n",
    "        print(\"-\" + tweets_nonpolish.tokenized.iloc[i])\n",
    "else:\n",
    "    drop_ids = json.load(open(path_drop, 'r'))"
   ]
  },
  {
   "cell_type": "markdown",
   "metadata": {},
   "source": [
    "- **Removing bots/users with suspicious levels of activity** - drop users with extremely high number of daily Tweets (excluding Retweet activity). 'Extremely active' is understood as users with higher activity than the 99th quantile of the average daily number of tweets."
   ]
  },
  {
   "cell_type": "code",
   "execution_count": 8,
   "metadata": {},
   "outputs": [
    {
     "data": {
      "text/html": [
       "<div>\n",
       "<style scoped>\n",
       "    .dataframe tbody tr th:only-of-type {\n",
       "        vertical-align: middle;\n",
       "    }\n",
       "\n",
       "    .dataframe tbody tr th {\n",
       "        vertical-align: top;\n",
       "    }\n",
       "\n",
       "    .dataframe thead th {\n",
       "        text-align: right;\n",
       "    }\n",
       "</style>\n",
       "<table border=\"1\" class=\"dataframe\">\n",
       "  <thead>\n",
       "    <tr style=\"text-align: right;\">\n",
       "      <th></th>\n",
       "      <th>lemmatized</th>\n",
       "    </tr>\n",
       "    <tr>\n",
       "      <th>user-id_str</th>\n",
       "      <th></th>\n",
       "    </tr>\n",
       "  </thead>\n",
       "  <tbody>\n",
       "    <tr>\n",
       "      <th>1223528125952417792</th>\n",
       "      <td>286.300000</td>\n",
       "    </tr>\n",
       "    <tr>\n",
       "      <th>28522629</th>\n",
       "      <td>168.171429</td>\n",
       "    </tr>\n",
       "    <tr>\n",
       "      <th>818748422866006016</th>\n",
       "      <td>153.051282</td>\n",
       "    </tr>\n",
       "    <tr>\n",
       "      <th>2188644971</th>\n",
       "      <td>152.431373</td>\n",
       "    </tr>\n",
       "    <tr>\n",
       "      <th>899193463371182080</th>\n",
       "      <td>143.833333</td>\n",
       "    </tr>\n",
       "    <tr>\n",
       "      <th>...</th>\n",
       "      <td>...</td>\n",
       "    </tr>\n",
       "    <tr>\n",
       "      <th>71028646</th>\n",
       "      <td>1.000000</td>\n",
       "    </tr>\n",
       "    <tr>\n",
       "      <th>1224765147757056002</th>\n",
       "      <td>1.000000</td>\n",
       "    </tr>\n",
       "    <tr>\n",
       "      <th>1224467950922620928</th>\n",
       "      <td>1.000000</td>\n",
       "    </tr>\n",
       "    <tr>\n",
       "      <th>3317925783</th>\n",
       "      <td>1.000000</td>\n",
       "    </tr>\n",
       "    <tr>\n",
       "      <th>2203373416</th>\n",
       "      <td>0.750000</td>\n",
       "    </tr>\n",
       "  </tbody>\n",
       "</table>\n",
       "<p>9076 rows × 1 columns</p>\n",
       "</div>"
      ],
      "text/plain": [
       "                     lemmatized\n",
       "user-id_str                    \n",
       "1223528125952417792  286.300000\n",
       "28522629             168.171429\n",
       "818748422866006016   153.051282\n",
       "2188644971           152.431373\n",
       "899193463371182080   143.833333\n",
       "...                         ...\n",
       "71028646               1.000000\n",
       "1224765147757056002    1.000000\n",
       "1224467950922620928    1.000000\n",
       "3317925783             1.000000\n",
       "2203373416             0.750000\n",
       "\n",
       "[9076 rows x 1 columns]"
      ]
     },
     "execution_count": 8,
     "metadata": {},
     "output_type": "execute_result"
    }
   ],
   "source": [
    "#drop retweets\n",
    "drop = np.logical_not(data['retweet'].apply(lambda x: ast.literal_eval(x)))\n",
    "data = data.loc[drop, :]\n",
    "counts = data.groupby(['user-id_str', 'day'])['lemmatized'].count().reset_index()\n",
    "counts_avg = counts.groupby('user-id_str').agg({'lemmatized':'mean'}).sort_values('lemmatized', ascending = False)\n",
    "counts_avg"
   ]
  },
  {
   "cell_type": "code",
   "execution_count": 9,
   "metadata": {},
   "outputs": [
    {
     "data": {
      "image/png": "[encoded data removed]",
      "text/plain": [
       "<Figure size 720x576 with 1 Axes>"
      ]
     },
     "metadata": {
      "needs_background": "light"
     },
     "output_type": "display_data"
    }
   ],
   "source": [
    "counts_avg.plot.hist(figsize = (10, 8), legend = None, title = 'Distribution of average number of tweets per day')\n",
    "plt.yscale('log')\n",
    "plt.show()"
   ]
  },
  {
   "cell_type": "markdown",
   "metadata": {},
   "source": [
    "I added the user tho tweeted 286 times per day to the list of profiles to be removed. The profile was later removed, so it seems like this could have been a bot activity."
   ]
  },
  {
   "cell_type": "code",
   "execution_count": 24,
   "metadata": {},
   "outputs": [
    {
     "data": {
      "text/html": [
       "<div>\n",
       "<style scoped>\n",
       "    .dataframe tbody tr th:only-of-type {\n",
       "        vertical-align: middle;\n",
       "    }\n",
       "\n",
       "    .dataframe tbody tr th {\n",
       "        vertical-align: top;\n",
       "    }\n",
       "\n",
       "    .dataframe thead th {\n",
       "        text-align: right;\n",
       "    }\n",
       "</style>\n",
       "<table border=\"1\" class=\"dataframe\">\n",
       "  <thead>\n",
       "    <tr style=\"text-align: right;\">\n",
       "      <th></th>\n",
       "      <th>lemmatized</th>\n",
       "    </tr>\n",
       "    <tr>\n",
       "      <th>user-id_str</th>\n",
       "      <th></th>\n",
       "    </tr>\n",
       "  </thead>\n",
       "  <tbody>\n",
       "    <tr>\n",
       "      <th>1223528125952417792</th>\n",
       "      <td>286.300000</td>\n",
       "    </tr>\n",
       "    <tr>\n",
       "      <th>28522629</th>\n",
       "      <td>168.171429</td>\n",
       "    </tr>\n",
       "    <tr>\n",
       "      <th>818748422866006016</th>\n",
       "      <td>153.051282</td>\n",
       "    </tr>\n",
       "    <tr>\n",
       "      <th>2188644971</th>\n",
       "      <td>152.431373</td>\n",
       "    </tr>\n",
       "    <tr>\n",
       "      <th>899193463371182080</th>\n",
       "      <td>143.833333</td>\n",
       "    </tr>\n",
       "    <tr>\n",
       "      <th>...</th>\n",
       "      <td>...</td>\n",
       "    </tr>\n",
       "    <tr>\n",
       "      <th>71028646</th>\n",
       "      <td>1.000000</td>\n",
       "    </tr>\n",
       "    <tr>\n",
       "      <th>1224765147757056002</th>\n",
       "      <td>1.000000</td>\n",
       "    </tr>\n",
       "    <tr>\n",
       "      <th>1224467950922620928</th>\n",
       "      <td>1.000000</td>\n",
       "    </tr>\n",
       "    <tr>\n",
       "      <th>3317925783</th>\n",
       "      <td>1.000000</td>\n",
       "    </tr>\n",
       "    <tr>\n",
       "      <th>2203373416</th>\n",
       "      <td>0.750000</td>\n",
       "    </tr>\n",
       "  </tbody>\n",
       "</table>\n",
       "<p>9076 rows × 1 columns</p>\n",
       "</div>"
      ],
      "text/plain": [
       "                     lemmatized\n",
       "user-id_str                    \n",
       "1223528125952417792  286.300000\n",
       "28522629             168.171429\n",
       "818748422866006016   153.051282\n",
       "2188644971           152.431373\n",
       "899193463371182080   143.833333\n",
       "...                         ...\n",
       "71028646               1.000000\n",
       "1224765147757056002    1.000000\n",
       "1224467950922620928    1.000000\n",
       "3317925783             1.000000\n",
       "2203373416             0.750000\n",
       "\n",
       "[9076 rows x 1 columns]"
      ]
     },
     "execution_count": 24,
     "metadata": {},
     "output_type": "execute_result"
    }
   ],
   "source": [
    "counts_avg"
   ]
  },
  {
   "cell_type": "code",
   "execution_count": 25,
   "metadata": {},
   "outputs": [
    {
     "name": "stdout",
     "output_type": "stream",
     "text": [
      "99.999th quantile of original tweet numbers 275.5798321429294\n",
      "Number of problematic ids 1\n"
     ]
    }
   ],
   "source": [
    "path_drop = os.path.join(path, 'results/cleaning/users_drop_ids.json')\n",
    "lim = counts_avg.quantile(0.99999)[0]\n",
    "print(f'99.999th quantile of original tweet numbers {lim}')\n",
    "high_activity = counts_avg[counts_avg['lemmatized'] > lim].reset_index()['user-id_str'].tolist()\n",
    "print(f'Number of problematic ids {len(high_activity)}')\n",
    "if not os.path.isfile(path_drop):\n",
    "    drop_ids = list(set(users_nonpolish + high_activity))\n",
    "    json.dump(drop_ids, open(path_drop, 'w'))\n",
    "else:\n",
    "    drop_ids = json.load(open(path_drop, 'r'))"
   ]
  },
  {
   "cell_type": "markdown",
   "metadata": {},
   "source": [
    "Also look at any local irregularities, i.e. users exceeding the average number in each given day:"
   ]
  },
  {
   "cell_type": "code",
   "execution_count": 26,
   "metadata": {},
   "outputs": [
    {
     "data": {
      "text/html": [
       "<div>\n",
       "<style scoped>\n",
       "    .dataframe tbody tr th:only-of-type {\n",
       "        vertical-align: middle;\n",
       "    }\n",
       "\n",
       "    .dataframe tbody tr th {\n",
       "        vertical-align: top;\n",
       "    }\n",
       "\n",
       "    .dataframe thead th {\n",
       "        text-align: right;\n",
       "    }\n",
       "</style>\n",
       "<table border=\"1\" class=\"dataframe\">\n",
       "  <thead>\n",
       "    <tr style=\"text-align: right;\">\n",
       "      <th></th>\n",
       "      <th>user-id_str</th>\n",
       "      <th>day</th>\n",
       "      <th>lemmatized</th>\n",
       "    </tr>\n",
       "  </thead>\n",
       "  <tbody>\n",
       "    <tr>\n",
       "      <th>109068</th>\n",
       "      <td>2840954536</td>\n",
       "      <td>2020-05-15</td>\n",
       "      <td>365</td>\n",
       "    </tr>\n",
       "    <tr>\n",
       "      <th>109500</th>\n",
       "      <td>28522629</td>\n",
       "      <td>2020-05-02</td>\n",
       "      <td>353</td>\n",
       "    </tr>\n",
       "    <tr>\n",
       "      <th>123897</th>\n",
       "      <td>3233772889</td>\n",
       "      <td>2020-05-01</td>\n",
       "      <td>344</td>\n",
       "    </tr>\n",
       "    <tr>\n",
       "      <th>174797</th>\n",
       "      <td>4839322828</td>\n",
       "      <td>2020-05-15</td>\n",
       "      <td>343</td>\n",
       "    </tr>\n",
       "    <tr>\n",
       "      <th>1063</th>\n",
       "      <td>1004342026547154944</td>\n",
       "      <td>2020-05-15</td>\n",
       "      <td>340</td>\n",
       "    </tr>\n",
       "    <tr>\n",
       "      <th>...</th>\n",
       "      <td>...</td>\n",
       "      <td>...</td>\n",
       "      <td>...</td>\n",
       "    </tr>\n",
       "    <tr>\n",
       "      <th>66569</th>\n",
       "      <td>1353653154</td>\n",
       "      <td>2020-03-24</td>\n",
       "      <td>1</td>\n",
       "    </tr>\n",
       "    <tr>\n",
       "      <th>156662</th>\n",
       "      <td>422173654</td>\n",
       "      <td>2020-02-22</td>\n",
       "      <td>1</td>\n",
       "    </tr>\n",
       "    <tr>\n",
       "      <th>156663</th>\n",
       "      <td>422173654</td>\n",
       "      <td>2020-02-24</td>\n",
       "      <td>1</td>\n",
       "    </tr>\n",
       "    <tr>\n",
       "      <th>156665</th>\n",
       "      <td>422173654</td>\n",
       "      <td>2020-02-27</td>\n",
       "      <td>1</td>\n",
       "    </tr>\n",
       "    <tr>\n",
       "      <th>84396</th>\n",
       "      <td>2203373416</td>\n",
       "      <td>2020-03-06</td>\n",
       "      <td>0</td>\n",
       "    </tr>\n",
       "  </tbody>\n",
       "</table>\n",
       "<p>276268 rows × 3 columns</p>\n",
       "</div>"
      ],
      "text/plain": [
       "                user-id_str         day  lemmatized\n",
       "109068           2840954536  2020-05-15         365\n",
       "109500             28522629  2020-05-02         353\n",
       "123897           3233772889  2020-05-01         344\n",
       "174797           4839322828  2020-05-15         343\n",
       "1063    1004342026547154944  2020-05-15         340\n",
       "...                     ...         ...         ...\n",
       "66569            1353653154  2020-03-24           1\n",
       "156662            422173654  2020-02-22           1\n",
       "156663            422173654  2020-02-24           1\n",
       "156665            422173654  2020-02-27           1\n",
       "84396            2203373416  2020-03-06           0\n",
       "\n",
       "[276268 rows x 3 columns]"
      ]
     },
     "execution_count": 26,
     "metadata": {},
     "output_type": "execute_result"
    }
   ],
   "source": [
    "counts[np.logical_not(counts['user-id_str'].isin(drop_ids))].sort_values('lemmatized', ascending = False)"
   ]
  },
  {
   "cell_type": "markdown",
   "metadata": {},
   "source": [
    "## Outlier removal\n",
    "- next, using the Sentence Embeddings method (based on fasttext vectors with 300 dimensions), I identify potential outliers in the data using the IsolationForrest algorithm and remove them"
   ]
  },
  {
   "cell_type": "code",
   "execution_count": 10,
   "metadata": {},
   "outputs": [],
   "source": [
    "path_embeddings = '/home/piotr/nlp/cc.pl.300.vec'\n",
    "from twitter_models.embeddings import OutlierDetector\n",
    "def filter_fun(df, cols, drop_ids, drop_duplicates = True):\n",
    "    df = df[np.logical_not(df['user-id_str'].isin(drop_ids))] #drop IDs that are to be excluded\n",
    "    df = df[df.polish.astype(float) > 0.5] #don't include non-Polish\n",
    "    if drop_duplicates:\n",
    "        df.drop_duplicates(inplace = True)\n",
    "    df = df[cols]\n",
    "    return df\n",
    "ff = partial(filter_fun, cols = ['lemmatized', 'day', 'source', 'id_str'], drop_ids = drop_ids)"
   ]
  },
  {
   "cell_type": "code",
   "execution_count": 17,
   "metadata": {},
   "outputs": [],
   "source": [
    "path_outliers = os.path.join(path, 'results/cleaning/outliers.json')\n",
    "if os.path.isfile(path_outliers):\n",
    "    outliers = json.load(open(path_outliers, 'r')) #load the outlier dict\n",
    "else:\n",
    "    from twitter_tools.utils import batch\n",
    "    data = pd.DataFrame()\n",
    "    for df in tqdm(read_files(path_preprocessed, 84, prefixes = [\"opp\", \"gov\"], dtype = str, \n",
    "                              filter_fun = ff)):\n",
    "        data = data.append(df)\n",
    "    data.drop_duplicates(inplace = True) #keep only unique tweets\n",
    "    splitter = StratifiedShuffleSplit(n_splits = 1, train_size = 0.1, random_state = 1234) #get a train-test split\n",
    "    detector = OutlierDetector(path_embeddings, IsolationForest(n_jobs = 3), a = 0.001) #init detector\n",
    "    tr, ts = next(splitter.split(data, data['day'] + data['source'])) #split - stratify by date and source\n",
    "    data = data.lemmatized #keep just the lemmatized text column\n",
    "    print(f'Train size {tr.shape}')\n",
    "    detector.fit(data.iloc[tr].astype(str))\n",
    "    pickle.dump(detector, open(os.path.join(path, 'results/cleaning/outlier_detector.p'), 'wb')) #save model\n",
    "    print(f'Finished fitting. Predicting outliers')\n",
    "    preds = [] #predict\n",
    "    for i, text in tqdm(enumerate(batch(data, 500000))):\n",
    "        preds.extend(detector.predict(text.astype(str)))\n",
    "    outliers = dict(filter(lambda x: x[1] == -1, zip(data.tolist(), preds)))\n",
    "    outliers = list(outliers.keys())\n",
    "    \n",
    "    #now load the data again without dropping the duplicates\n",
    "    #and get a list of all tweet ids tagged as duplicates\n",
    "    data = pd.DataFrame()\n",
    "    ff = partial(filter_fun, cols = ['lemmatized', 'id_str'], drop_ids = drop_ids, drop_duplicates = False)\n",
    "    for df in tqdm(read_files(path_preprocessed, 84, prefixes = [\"opp\", \"gov\"], dtype = str, \n",
    "                          filter_fun = ff)):\n",
    "        data = data.append(df)\n",
    "    data['outlier'] = data.lemmatized.isin(outliers)\n",
    "    oulier_ids = data.loc[data.outlier,('id_str')].tolist()\n",
    "    json.dump(outlier_ids, open(path_outliers, 'w'))"
   ]
  },
  {
   "cell_type": "markdown",
   "metadata": {},
   "source": [
    "## Final step\n",
    "Get ids of all tweets that should be removed based on the previous analysis + all with below 0.5 words in Polish"
   ]
  },
  {
   "cell_type": "code",
   "execution_count": 32,
   "metadata": {},
   "outputs": [],
   "source": [
    "drop_users = json.load(open(os.path.join(path, 'results/cleaning/users_drop_ids.json'), 'r'))\n",
    "outliers = json.load(open(os.path.join(path, 'results/cleaning/outliers.json'), 'r'))\n",
    "def get_ids(df, drop_users: list, drop_tweets: list):\n",
    "    drop = df['user-id_str'].isin(drop_users) #drop users that are to be excluded\n",
    "    drop |= df['id_str'].isin(drop_tweets) #drop tweets that are to be excluded\n",
    "    drop |= df.polish.astype(float) < 0.5 #drop tweets with less than 50% Polish\n",
    "    ids = df.loc[drop, ('id_str')].tolist() #get ids\n",
    "    return ids"
   ]
  },
  {
   "cell_type": "code",
   "execution_count": 37,
   "metadata": {},
   "outputs": [],
   "source": [
    "path_tmp = os.path.join(path, 'results/cleaning/DROP_IDS.json')\n",
    "if not os.path.isfile(path_tmp):\n",
    "    ids_drop = []\n",
    "    for df in tqdm(read_files(path_preprocessed, 84, prefixes = [\"opp\", \"gov\"], dtype = str)):\n",
    "        ids_drop.extend(get_ids(df, drop_users = drop_users, drop_tweets = outliers))\n",
    "    json.dump(ids_drop, open(path_tmp, 'w'))"
   ]
  },
  {
   "cell_type": "code",
   "execution_count": null,
   "metadata": {},
   "outputs": [],
   "source": []
  }
 ],
 "metadata": {
  "kernelspec": {
   "display_name": "Python [conda env:nlp]",
   "language": "python",
   "name": "conda-env-nlp-py"
  },
  "language_info": {
   "codemirror_mode": {
    "name": "ipython",
    "version": 3
   },
   "file_extension": ".py",
   "mimetype": "text/x-python",
   "name": "python",
   "nbconvert_exporter": "python",
   "pygments_lexer": "ipython3",
   "version": "3.8.3"
  }
 },
 "nbformat": 4,
 "nbformat_minor": 4
}
