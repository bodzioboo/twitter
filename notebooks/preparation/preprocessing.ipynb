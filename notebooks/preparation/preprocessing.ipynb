{
 "cells": [
  {
   "cell_type": "markdown",
   "metadata": {},
   "source": [
    "# Preprocessing of the Twitter Data"
   ]
  },
  {
   "cell_type": "markdown",
   "metadata": {},
   "source": [
    "**Set up path**"
   ]
  },
  {
   "cell_type": "code",
   "execution_count": 3,
   "metadata": {},
   "outputs": [],
   "source": [
    "import sys\n",
    "import os\n",
    "PATH = \"/home/piotr/projects/twitter\"\n",
    "sys.path.append(os.path.join(PATH, \"src\"))\n",
    "PATH_RECORD = os.path.join(PATH, \"data/clean/record.json\") #path to store records\n",
    "START = '2020_02_22' #start date (first file)\n",
    "END = '2020_07_20' #end date (last file)\n",
    "PATH_PREPROCESSED = os.path.join(PATH, 'data/clean') #data path"
   ]
  },
  {
   "cell_type": "markdown",
   "metadata": {},
   "source": [
    "**Import libraries**:"
   ]
  },
  {
   "cell_type": "code",
   "execution_count": 4,
   "metadata": {},
   "outputs": [
    {
     "name": "stderr",
     "output_type": "stream",
     "text": [
      "/home/piotr/anaconda3/envs/nlp/lib/python3.8/site-packages/tqdm/std.py:668: FutureWarning: The Panel class is removed from pandas. Accessing it from the top-level namespace will also be removed in the next version\n",
      "  from pandas import Panel\n"
     ]
    }
   ],
   "source": [
    "import logging\n",
    "import pickle\n",
    "import json\n",
    "import ast\n",
    "import datetime\n",
    "import pdb\n",
    "import gc\n",
    "import re\n",
    "\n",
    "import pandas as pd\n",
    "import numpy as np\n",
    "import matplotlib.pyplot as plt\n",
    "\n",
    "from functools import partial\n",
    "from collections import defaultdict\n",
    "from tqdm.notebook import tqdm\n",
    "tqdm.pandas()\n",
    "\n",
    "from sklearn.ensemble import IsolationForest\n",
    "from sklearn.model_selection import StratifiedShuffleSplit\n",
    "\n",
    "from twitter_tools.preprocessing import Preprocessor\n",
    "from twitter_models.embeddings import OutlierDetector\n",
    "from twitter_tools.utils import read_files, batch\n",
    "\n",
    "from dask import dataframe as dd\n",
    "from dask.diagnostics import ProgressBar\n",
    "\n",
    "\n",
    "PATH_STOPWORDS = '/home/piotr/nlp/polish.stopwords.txt'\n",
    "stopwords = []\n",
    "with open(PATH_STOPWORDS, 'r') as f:\n",
    "    for line in f:\n",
    "        stopwords.append(line.strip('\\n'))\n",
    "stopwords.append('mieć')\n",
    "\n",
    "dtypes = json.load(open(os.path.join(PATH, 'results/cleaning/dtypes.json'), 'r'))"
   ]
  },
  {
   "cell_type": "markdown",
   "metadata": {},
   "source": [
    "**Setup logging:**"
   ]
  },
  {
   "cell_type": "code",
   "execution_count": 5,
   "metadata": {},
   "outputs": [],
   "source": [
    "logger = logging.getLogger(__name__)\n",
    "logger.setLevel(logging.DEBUG)\n",
    "handler = logging.StreamHandler()\n",
    "handler.setLevel(logging.DEBUG)\n",
    "logger.addHandler(handler)"
   ]
  },
  {
   "cell_type": "markdown",
   "metadata": {},
   "source": [
    "## Preprocessing and lemmatization:"
   ]
  },
  {
   "cell_type": "markdown",
   "metadata": {},
   "source": [
    "The preprocessing and lemmatization is performed through the `Preprocessor` class, which performs the following task:\n",
    "- ensures integrity of each record, drops it if any problems occur - for example, unexpected data types key fields containing text, user IDs or Tweet date\n",
    "- drops Tweets marked as having a different language than Polish or undefined\n",
    "- removes URLs, numbers, emojis and user mentions from each Tweet's text\n",
    "- replaces hashtags included in Tweets with words\n",
    "- marks the retweets in the dataset\n",
    "- tokenizes the text, performs POS tagging and lemmatization on each of the texts using the preprocessing Pipeline from the `stanza` library. Two separate fields are kept - `tokenized` for tokenized data after the preprocessing steps mentioned above and `lemmatized` for fully lemmatized data\n",
    "- no stopword removal is performed at this point\n",
    "- computes the proportion of Polish tokens in the data using the spell checker from the `pyenchant` library"
   ]
  },
  {
   "cell_type": "markdown",
   "metadata": {},
   "source": [
    "First, I set up the parameters for preprocessing - chunk size for the preprocessor, etc."
   ]
  },
  {
   "cell_type": "code",
   "execution_count": 5,
   "metadata": {},
   "outputs": [],
   "source": [
    "keep_cols = ['full_text', 'created_at', 'id_str', 'user-id_str'] #columns to be kept\n",
    "chunk_size = 10000 #chunk size for CSV reader\n",
    "pos_batch_size = 1000 #batch size for POS tagger"
   ]
  },
  {
   "cell_type": "markdown",
   "metadata": {},
   "source": [
    "Define function for filtering out file names between specified range of dates:"
   ]
  },
  {
   "cell_type": "code",
   "execution_count": 6,
   "metadata": {},
   "outputs": [],
   "source": [
    "def filter_date(name, start, end, regex = '\\d{4}\\_\\d{2}\\_\\d{2}', fmt = '%Y_%m_%d'):\n",
    "    date = re.search(regex, name).group(0)\n",
    "    date, start, end = map(lambda x: datetime.datetime.strptime(x, fmt), [date, start, end])\n",
    "    return date >= start and date <= end"
   ]
  },
  {
   "cell_type": "markdown",
   "metadata": {},
   "source": [
    "Define function to run the preprocessor iteratively through files in chunks:"
   ]
  },
  {
   "cell_type": "code",
   "execution_count": 13,
   "metadata": {},
   "outputs": [],
   "source": [
    "def preprocess(path_raw:str, path_preprocessed:str, keep_cols:list, \n",
    "               date_from:str, date_to:str, path_record:str = None, \n",
    "               chunk_size:int = 10000, pos_batch_size:int = 1000):\n",
    "    \"\"\"\n",
    "    path_raw:: str, folder containing raw files\n",
    "    path_preprocessed:: str, folder to store preprocessed files\n",
    "    keep_cols:: list, columns to keep\n",
    "    date_from:: str, date from which to start in format %Y_%m_%d\n",
    "    date_to:: str, date on which to end in format %Y_%m_%d\n",
    "    path_record:: str, path to json record file - stores number of rows iterated over in each preprocessed files\n",
    "    chunk_size:: int, chunk size for the file loader\n",
    "    pos_batch_size:: int, batch size for the POS tagger\n",
    "    \"\"\"\n",
    "    #record:\n",
    "    if path_record and os.path.isfile(path_record):\n",
    "        record = json.load(open(path_record, \"r\"))\n",
    "        record = defaultdict(lambda: 0, record)\n",
    "    else:\n",
    "        record = defaultdict(lambda: 0)\n",
    "    \n",
    "    #get files in the specified dates:\n",
    "    files = [f for f in os.listdir(path_raw) if 'csv' in f and filter_date(f, start = date_from, end = date_to)]\n",
    "    preprocessor = Preprocessor(keep_cols = keep_cols, pos_batch_size = pos_batch_size) #init\n",
    "    \n",
    "    #iterate through files:\n",
    "    for file in tqdm(sorted(files)):\n",
    "        \n",
    "        path_source = os.path.join(path_raw, file) #path to read raw file from\n",
    "        path_target = os.path.join(path_preprocessed, file) #path to write preprocessed file to\n",
    "        \n",
    "        names = pd.read_csv(path_source, dtype = str, nrows = 1, index_col = 0).columns #get column names\n",
    "        \n",
    "        #preprocess csv by chunk:\n",
    "        for df in pd.read_csv(path_source, iterator = True, dtype = str, \n",
    "                               skiprows = record[path_source] + 1,\n",
    "                               chunksize = chunk_size, index_col = 0, \n",
    "                               names = names):\n",
    "            res = preprocessor.preprocess(df)\n",
    "\n",
    "            if res is not None:\n",
    "\n",
    "                if os.path.isfile(path_target):\n",
    "                    res.to_csv(path_target, mode = \"a\", header = False) #append if exists\n",
    "                else:\n",
    "                    res.to_csv(path_target, mode = \"w\") #else write to new\n",
    "\n",
    "                record[path_source] += chunk_size\n",
    "\n",
    "                if path_record:\n",
    "                    json.dump(dict(record), open(path_record, \"w\"))\n",
    "        gc.collect()"
   ]
  },
  {
   "cell_type": "markdown",
   "metadata": {},
   "source": [
    "#### Preprocess government tweets "
   ]
  },
  {
   "cell_type": "code",
   "execution_count": 31,
   "metadata": {},
   "outputs": [
    {
     "name": "stderr",
     "output_type": "stream",
     "text": [
      "2020-07-23 18:13:07 WARNING: Can not find mwt: default from official model list. Ignoring it.\n",
      "2020-07-23 18:13:07 INFO: Loading these models for language: pl (Polish):\n",
      "=======================\n",
      "| Processor | Package |\n",
      "-----------------------\n",
      "| tokenize  | lfg     |\n",
      "| pos       | lfg     |\n",
      "| lemma     | lfg     |\n",
      "=======================\n",
      "\n",
      "2020-07-23 18:13:07 INFO: Use device: gpu\n",
      "2020-07-23 18:13:07 INFO: Loading: tokenize\n",
      "2020-07-23 18:13:07 INFO: Loading: pos\n",
      "2020-07-23 18:13:08 INFO: Loading: lemma\n",
      "2020-07-23 18:13:08 INFO: Done loading processors!\n"
     ]
    },
    {
     "data": {
      "application/vnd.jupyter.widget-view+json": {
       "model_id": "09cfef0e1d504d919e6a877ff9ddd67d",
       "version_major": 2,
       "version_minor": 0
      },
      "text/plain": [
       "HBox(children=(FloatProgress(value=0.0, max=150.0), HTML(value='')))"
      ]
     },
     "metadata": {},
     "output_type": "display_data"
    },
    {
     "name": "stdout",
     "output_type": "stream",
     "text": [
      "\n"
     ]
    }
   ],
   "source": [
    "PATH_RAW = '/media/piotr/SAMSUNG/data/gov'\n",
    "preprocess(PATH_RAW, PATH_PREPROCESSED, keep_cols = keep_cols, path_record = PATH_RECORD,\n",
    "          chunk_size = 10000, pos_batch_size = 1000, date_from = start, date_to = end)"
   ]
  },
  {
   "cell_type": "markdown",
   "metadata": {},
   "source": [
    "#### Preprocess opposition tweets"
   ]
  },
  {
   "cell_type": "code",
   "execution_count": 32,
   "metadata": {},
   "outputs": [
    {
     "name": "stderr",
     "output_type": "stream",
     "text": [
      "2020-07-24 17:06:31 WARNING: Can not find mwt: default from official model list. Ignoring it.\n",
      "2020-07-24 17:06:31 INFO: Loading these models for language: pl (Polish):\n",
      "=======================\n",
      "| Processor | Package |\n",
      "-----------------------\n",
      "| tokenize  | lfg     |\n",
      "| pos       | lfg     |\n",
      "| lemma     | lfg     |\n",
      "=======================\n",
      "\n",
      "2020-07-24 17:06:31 INFO: Use device: gpu\n",
      "2020-07-24 17:06:31 INFO: Loading: tokenize\n",
      "2020-07-24 17:06:31 INFO: Loading: pos\n",
      "2020-07-24 17:06:32 INFO: Loading: lemma\n",
      "2020-07-24 17:06:32 INFO: Done loading processors!\n"
     ]
    },
    {
     "data": {
      "application/vnd.jupyter.widget-view+json": {
       "model_id": "ea3a590ec90949ad9a67f1177f31d6f3",
       "version_major": 2,
       "version_minor": 0
      },
      "text/plain": [
       "HBox(children=(FloatProgress(value=0.0, max=150.0), HTML(value='')))"
      ]
     },
     "metadata": {},
     "output_type": "display_data"
    },
    {
     "name": "stdout",
     "output_type": "stream",
     "text": [
      "\n"
     ]
    }
   ],
   "source": [
    "PATH_RAW = '/media/piotr/SAMSUNG/data/opp'\n",
    "preprocess(PATH_RAW, PATH_PREPROCESSED, keep_cols = keep_cols, path_record = PATH_RECORD,\n",
    "          chunk_size = 10000, pos_batch_size = 1000, date_from = start, date_to = end)"
   ]
  },
  {
   "cell_type": "markdown",
   "metadata": {},
   "source": [
    "## Cleaning"
   ]
  },
  {
   "cell_type": "markdown",
   "metadata": {},
   "source": [
    "#### Load the data:"
   ]
  },
  {
   "cell_type": "code",
   "execution_count": 10,
   "metadata": {
    "scrolled": true
   },
   "outputs": [],
   "source": [
    "data = read_files(PATH_PREPROCESSED, day_from = START, day_to = END, method = 'dask', dtype = dtypes)"
   ]
  },
  {
   "cell_type": "markdown",
   "metadata": {},
   "source": [
    "- **Removing Tweets in a different language** - Some of the users scraped were using other languages than Polish, rendering any form of NLP analysis of their content difficult. To remove them, I analyzed the average proportion of non-Polish tokens in the lemmatized version of their tweets:"
   ]
  },
  {
   "cell_type": "code",
   "execution_count": 65,
   "metadata": {},
   "outputs": [
    {
     "name": "stdout",
     "output_type": "stream",
     "text": [
      "[########################################] | 100% Completed |  2min  5.0s\n",
      "Number of non-Polish users 64\n",
      "Example tweets:\n",
      "[########################################] | 100% Completed |  2min  0.4s\n"
     ]
    }
   ],
   "source": [
    "with ProgressBar():\n",
    "    polishness = data.groupby(['user-id_str']).agg({'polish':'mean'}).compute()\n",
    "    drop_users = polishness[polishness['polish'] < 0.4].index.tolist()\n",
    "    print(f\"Number of non-Polish users {len(drop_users)}\")\n",
    "    print(\"Example tweets:\")\n",
    "    tweets_nonpolish = data[data['user-id_str'].isin(drop_users)].sample(frac = 0.1, random_state = 1234).compute()"
   ]
  },
  {
   "cell_type": "code",
   "execution_count": 66,
   "metadata": {
    "scrolled": true
   },
   "outputs": [
    {
     "name": "stdout",
     "output_type": "stream",
     "text": [
      "-adventura natura traveling photograph\n",
      "-adventura traseltheworld natura travelling\n",
      "-hong kong polika terrorism hongkongponicetalicata ccpvirus ccpcoro n avirus\n",
      "-champion mp austin grooming gangs\n",
      "-you\n",
      "-china lied people died\n",
      "-flowerphotograph photo plant beautiful rose plants floral\n",
      "-just posted ymię aitidiem у косачеву on reddit\n",
      "-wuhan corona virus coronavirus covid\n",
      "-ventil covid coronavirus\n",
      "-quebec covid\n",
      "-happy new week twitter world painting art lovers\n",
      "-wciąż aktualny żeby nikt się nie zdziwić jak się obudzić pewien dzień kazać on opuścić własny dom wykupywać manhattan rumunia węgry polska być wszędzie hektar hektar hektar shimon perez być prezydent izrael\n",
      "-just posted юля сбросила dziąć on reddit\n",
      "-sickof hajdu tam\n",
      "-just posted ezoniet yidied ydizia н ydizia mieć on reddit\n",
      "-cdnpolić coronavirus pandemic\n",
      "-wtf\n",
      "-just posted ydizia yidied из aitidiem on reddit\n",
      "-just posted ydizia закончился dziąć on reddit\n",
      "-just posted facebook dii aitidiem ydizia происхождения on reddit\n",
      "-talmud\n",
      "-just posted сша все mieć ydizia on reddit\n",
      "-ifb\n",
      "-just posted северный ymię ymię dodziać on reddit\n",
      "-cdnpolić covid donald trump pelosia press\n",
      "-corona crisis coronacrimes\n",
      "-yes\n",
      "-just posted ydizia yidied mieć on reddit\n",
      "-wizard open borders for israel\n",
      "-la toscan italia\n",
      "-just posted ezoniet вам не aitidiem on reddit\n",
      "-online never again\n",
      "-just posted президентские ydizia на ydizia on reddit\n",
      "-john gage bds\n",
      "-revolt bds\n",
      "-obamagate\n",
      "-satellit families vanre\n",
      "-just posted yidied з по ymię dodziąć on reddit\n",
      "-just posted ymię dodziąć on reddit\n",
      "-chinese traditional\n",
      "-cc\n",
      "-voto latino\n",
      "-alt right nazbols\n",
      "-valorant strateg\n",
      "-john gage whita strik whita slavery\n",
      "-canceć georgetown\n",
      "-just posted ydizia dziąć on reddit\n",
      "-just posted ymię беды ymię ы yidied on reddit\n",
      "-na okupować teren palestyna segregacja iść na cały osobny lina autobusowy tylko dla palestyńczyk wyobrażajcić siebie reakcja mośk jakby przywrócić segregacja usa\n",
      "-just posted на ydizia ymię mieć on reddit\n",
      "-law jewishprivilega\n",
      "-jewish supremak\n",
      "-japonia poruszenie kiedyś się domyślać teraz być już potwierdzić naukowo że pochodzić biały europejski rasa teraz wiadomo skąd wysoki wśród japończyk iq\n",
      "-bruenig jewish privily\n",
      "-pbs open borders for israel\n",
      "-kerik jewish privily\n",
      "-hey\n",
      "-malina jewish privily\n",
      "-adams beer jewish privily\n",
      "-pharaoh john gage jewish privily\n",
      "-jewish privily\n",
      "-just posted ydizia е газпрома устроили mieć on reddit\n",
      "-jewish privily\n",
      "-jewish privily\n",
      "-dersh jewish privily equal rights for palestinians israeli crimes\n",
      "-nieć pinupmodel vintagephotobooth pinupmodels\n",
      "-krak kazimierz\n",
      "-subject fwd zverejneny bolo maleć video andrejom kiskom sme tom až po uki hlavné sprova\n",
      "-bnwphotograph bnwać captures monochroma monochromatic monochry blackandwhtephotephoth\n",
      "-aididimomi\n",
      "-fc slovacko\n",
      "-steven léone\n",
      "-amendment now\n",
      "-brand branding designgrafico identidadevisual marzec logotipo logomarca identit packaginy mockup photoshop illustrator typograph corporatententita graphicdesign logodesign businesscard brandstarbr brandstar indesign creativesignigner logo logotyp logobran\n",
      "-zdzislaw beksinski\n",
      "-sergey reznichenko ukrainianin\n",
      "-photograph fotografía natura naturalezać tena lifa dreams\n",
      "-alicja pietras\n",
      "-good night michael knizov\n",
      "-ইত গরণ bangladesh march via\n",
      "-ciao hoda rostam\n",
      "-krak kazimierz\n",
      "-to su sam grana isprepletene na nebu dnevnik ᔕrca\n",
      "-freemusika onlinefremusiciec\n",
      "-naradiać ambasid penty aby sa otvorić obchód dem senior aby sa nakazić čo najviac ľudí lebo sr on mieć málo nariadić matovic sulik vláda veselo sa realizować osrenie vsrus veima zodpovedny bud obete bud odsidenić za obete\n",
      "-photograph nikon nikonglobać nikonphotograph nikonnofilter\n",
      "-ashleyspirals\n",
      "-heath ledger\n",
      "-ph wojciech plewiński\n",
      "-photomanipationat vienna\n",
      "-on\n",
      "-vážený voimlić ste sini tento článok viznać čo tu ide vlada sr priprayra podvod zaveden spusten cit clank minister predseda vloda diskutovać spoloin bój prota nak partnersty ako zapadni spojencov\n",
      "-mjesec ih on jednom davno pretvorio tioin onu koj čujemo pred san\n",
      "-fotografía photograph blackandwhtephotephoth\n",
      "-joan miro\n",
      "-by marcin gorski\n",
      "-ffff be swan peaka reives stew fos\n",
      "-photograph nikon light nikon nikonglobać nikonphotograph nikonnofilter nikonz\n",
      "-masao yamamoto\n",
      "-on ć jednom nestać kao latika što iekaj blaga vjetar dać ih odnes neminovny\n",
      "-qd\n",
      "-brawo\n",
      "-marcin ryczek photograph\n",
      "-antoni tapies tapies\n",
      "-oplatí sa vypój ť poučné zotroiovać národov sivlolostia kto financoval vojny za akým ecel prečo priola život miliónov žien detí starcov obrancov ako aj nień drancovać planéty kto on za to zodpovednieć atd\n",
      "-veď tych mld sú nekryt papierik ide úrokové otroctvo svetovląd fedu vediete eu naród do zihuba chudoba hlad neklamte seba ľudí viac sa tu dozviete\n",
      "-photograph nikon light nikon nikonglobać nikonphotograph nikonnofilter nikonz\n",
      "-werbliński maciej\n",
      "-podvód usa who\n",
      "-koronavírus trump povedać on on oveľa horší ako útok americki vlod na dvojieka mieć on ale horš í každý test detekować prirodzenie obranný mechanizmus našom tele nie vírus každý človek chrspkova stav má pozitívny test na koronavírus\n",
      "-do widzenie do jutro see you zbigniew cybulski teresa tuszyńska\n",
      "-feel thata am not alon that not alon in tho world the double life of veronique krzysztof kieślowski\n",
      "-léon spilliaert\n",
      "-cyanotypieć allalive\n",
      "-daniella sokolova\n",
      "-ahwazis\n",
      "-cita of ghosts roberto de mitri\n",
      "-nature photograph lights naturalezać lifa dreams\n",
      "-klamstvo ukrajina usa podiele rusk na zostreleni letu nad ukrajinou bolo definittzyna odhalini medzinłrodnie vytetroyanin lietadlo bolo zostreleni ukrajince za podpory usa nato\n",
      "-black by jarek khaal kubicki\n",
      "-ivalin dakova\n",
      "-rafał trzaskowski\n",
      "-ore\n",
      "-anselm kiefer\n",
      "-a ž percent slovákov sini myslí on vledać on ovplyvňovaná oligarch finanić skupina takmer polovica sa zase domniesa on oligarchovia finanina skupina ovplyviuj aj mśdia á vypliv to nijnovy prieskum think tank globsec\n",
      "-দম গল ইর adult movie hot film via\n",
      "-comeda short film funny video আপ হম অভ চরম শর via\n",
      "-dobrać krak\n",
      "-yep\n",
      "-ts arte\n",
      "-three colors blue director krzysztof kieslowski juliette binoche\n",
      "-dnk\n",
      "-artist on twitter nature photograph mextures artworkać saturday morning saturday mood saturday vibes\n",
      "-wtf\n"
     ]
    }
   ],
   "source": [
    "for i in tweets_nonpolish['lemmatized']:\n",
    "    print(\"-\" + i)"
   ]
  },
  {
   "cell_type": "markdown",
   "metadata": {},
   "source": [
    "- **Removing bots/users with suspicious levels of activity** - drop users with extremely high number of daily Tweets (excluding Retweet activity). 'Extremely active' is understood as users with higher activity than the 99th quantile of the average daily number of tweets."
   ]
  },
  {
   "cell_type": "code",
   "execution_count": 67,
   "metadata": {},
   "outputs": [
    {
     "name": "stdout",
     "output_type": "stream",
     "text": [
      "[########################################] | 100% Completed |  2min  7.5s\n",
      "user-id_str\n",
      "1223528125952417792    286.300000\n",
      "28522629               161.250000\n",
      "2188644971             151.123457\n",
      "818748422866006016     145.523077\n",
      "1240226312796676097    126.157895\n",
      "                          ...    \n",
      "2338864224               1.000000\n",
      "1163156949455777792      1.000000\n",
      "1163409086991478784      1.000000\n",
      "2333783572               1.000000\n",
      "332207504                1.000000\n",
      "Length: 9326, dtype: float64\n"
     ]
    },
    {
     "data": {
      "image/png": "[encoded data removed]",
      "text/plain": [
       "<Figure size 720x576 with 1 Axes>"
      ]
     },
     "metadata": {
      "needs_background": "light"
     },
     "output_type": "display_data"
    }
   ],
   "source": [
    "with ProgressBar():\n",
    "    counts = data.loc[np.logical_not(data['retweet']),:].groupby(['user-id_str','day']).size().compute()\n",
    "counts_avg = counts.groupby('user-id_str').mean()\n",
    "print(counts_avg.sort_values(0, ascending = False))\n",
    "counts_avg.plot.hist(figsize = (10, 8), legend = None, title = 'Distribution of average number of tweets per day')\n",
    "plt.yscale('log')\n",
    "plt.show()"
   ]
  },
  {
   "cell_type": "markdown",
   "metadata": {},
   "source": [
    "I added the user tho tweeted 286 times per day to the list of profiles to be removed. The profile was later removed, so it seems like this could have been a bot activity."
   ]
  },
  {
   "cell_type": "code",
   "execution_count": 68,
   "metadata": {},
   "outputs": [
    {
     "name": "stdout",
     "output_type": "stream",
     "text": [
      "99.999th quantile of original tweet numbers per day 169.6908749998999\n",
      "Number of highly active ids 1\n"
     ]
    }
   ],
   "source": [
    "PATH_DROP = os.path.join(PATH, 'results/cleaning/drop_users.json')\n",
    "lim = counts_avg.quantile(0.9999)\n",
    "print(f'99.999th quantile of original tweet numbers per day {lim}')\n",
    "high_activity = counts_avg[counts_avg > lim].reset_index()['user-id_str'].tolist()\n",
    "print(f'Number of highly active ids {len(high_activity)}')\n",
    "drop_users = list(set(drop_users + high_activity))\n",
    "json.dump(drop_users, open(PATH_DROP, 'w'))"
   ]
  },
  {
   "cell_type": "markdown",
   "metadata": {},
   "source": [
    "Finally, get ids of individual tweets that are not in Polish (e.g. bi-lingual users)"
   ]
  },
  {
   "cell_type": "code",
   "execution_count": 71,
   "metadata": {},
   "outputs": [
    {
     "name": "stdout",
     "output_type": "stream",
     "text": [
      "\r",
      "[                                        ] | 0% Completed |  0.0s"
     ]
    },
    {
     "name": "stderr",
     "output_type": "stream",
     "text": [
      "/home/piotr/anaconda3/envs/nlp/lib/python3.8/site-packages/dask/dataframe/core.py:1334: UserWarning: sample does not support the number of sampled items parameter, 'n'. Please use the 'frac' parameter instead.\n",
      "  warnings.warn(msg)\n"
     ]
    },
    {
     "name": "stdout",
     "output_type": "stream",
     "text": [
      "[########################################] | 100% Completed |  2min  6.1s\n"
     ]
    },
    {
     "data": {
      "image/png": "[encoded data removed]",
      "text/plain": [
       "<Figure size 720x576 with 1 Axes>"
      ]
     },
     "metadata": {
      "needs_background": "light"
     },
     "output_type": "display_data"
    }
   ],
   "source": [
    "with ProgressBar():\n",
    "    fig, ax = plt.subplots(1, 1, figsize = (10,10))\n",
    "    ax.set_title('Proportion of Polish tokens in tweets')\n",
    "    data.loc[np.logical_not(data['user-id_str'].isin(drop_users))].polish.sample(0.2).compute().hist(figsize = (10, 8), ax = ax)\n",
    "    plt.yscale('log')\n",
    "    plt.show()"
   ]
  },
  {
   "cell_type": "code",
   "execution_count": 75,
   "metadata": {},
   "outputs": [],
   "source": [
    "with ProgressBar():\n",
    "    drop_tweets = data['id_str'][data.polish <= 0.5].compute()\n",
    "drop_tweets = drop_tweets.tolist()\n"
   ]
  },
  {
   "cell_type": "markdown",
   "metadata": {},
   "source": [
    "## Tweets containing only stopwords:"
   ]
  },
  {
   "cell_type": "code",
   "execution_count": 8,
   "metadata": {},
   "outputs": [],
   "source": [
    "data = read_files(PATH_PREPROCESSED, day_from = START, day_to = END, method = 'dask',\n",
    "                  usecols = ['lemmatized','user-id_str','id_str'], dtype = dtypes)"
   ]
  },
  {
   "cell_type": "code",
   "execution_count": 13,
   "metadata": {},
   "outputs": [
    {
     "name": "stdout",
     "output_type": "stream",
     "text": [
      "[########################################] | 100% Completed | 14min  6.8s\n"
     ]
    }
   ],
   "source": [
    "with ProgressBar():\n",
    "    stop_tweets = data['id_str'][data.lemmatized.astype(str).apply(lambda x: all([w in stopwords for w in x.split()]), meta = ('lemmatized','bool'))].compute(num_workers = 4)"
   ]
  },
  {
   "cell_type": "code",
   "execution_count": 14,
   "metadata": {},
   "outputs": [],
   "source": [
    "drop_tweets.extend(stop_tweets.tolist())\n",
    "drop_tweets = list(set(drop_tweets))\n",
    "PATH_DROP = os.path.join(PATH, 'results/cleaning/drop_tweets.json')\n",
    "json.dump(drop_tweets, open(PATH_DROP, 'w'))"
   ]
  },
  {
   "cell_type": "markdown",
   "metadata": {},
   "source": [
    "### Export all clean data to one file:"
   ]
  },
  {
   "cell_type": "code",
   "execution_count": 30,
   "metadata": {},
   "outputs": [],
   "source": [
    "PATH_DROP = os.path.join(PATH, 'results/cleaning/drop_tweets.json')\n",
    "drop_tweets = json.load(open(PATH_DROP, 'r'))\n",
    "PATH_DROP = os.path.join(PATH, 'results/cleaning/drop_users.json')\n",
    "drop_users = json.load(open(PATH_DROP, 'r'))\n",
    "PATH_PREPROCESSED = os.path.join(PATH, 'data/clean')\n",
    "PATH_EMBEDDINGS = '/home/piotr/nlp/cc.pl.300.vec'\n",
    "\n",
    "#filter function:\n",
    "def filter_fun(df, drop_users, drop_tweets):\n",
    "    df = df[np.logical_not(df['user-id_str'].isin(drop_users))] #drop IDs that are to be excluded\n",
    "    df = df[np.logical_not(df['id_str'].isin(drop_tweets))]\n",
    "    return df\n",
    "ff = partial(filter_fun, drop_users = drop_users, drop_tweets = drop_tweets)"
   ]
  },
  {
   "cell_type": "code",
   "execution_count": 31,
   "metadata": {},
   "outputs": [
    {
     "data": {
      "application/vnd.jupyter.widget-view+json": {
       "model_id": "3a3fa4e2c99942928da494abf27d2927",
       "version_major": 2,
       "version_minor": 0
      },
      "text/plain": [
       "HBox(children=(FloatProgress(value=1.0, bar_style='info', max=1.0), HTML(value='')))"
      ]
     },
     "metadata": {},
     "output_type": "display_data"
    },
    {
     "name": "stdout",
     "output_type": "stream",
     "text": [
      "\n"
     ]
    }
   ],
   "source": [
    "FILENAME = 'all_tweets.txt'\n",
    "with open(os.path.join(PATH_PREPROCESSED, FILENAME), 'a') as f:\n",
    "    for df in tqdm(read_files(PATH_PREPROCESSED, day_from = START, day_to = END, method = 'pandas', dtype = dtypes, filter_fun = ff)):\n",
    "        for line in df.lemmatized.tolist():\n",
    "            f.write(line + '\\n')"
   ]
  },
  {
   "cell_type": "code",
   "execution_count": null,
   "metadata": {},
   "outputs": [],
   "source": [
    "! /home/piotr/nlp/glove/glove_train.sh"
   ]
  },
  {
   "cell_type": "markdown",
   "metadata": {},
   "source": [
    "## Outlier removal\n",
    "- next, using the Sentence Embeddings method (based on fasttext vectors with 300 dimensions), I identify potential outliers in the data using the IsolationForrest algorithm and remove them"
   ]
  },
  {
   "cell_type": "markdown",
   "metadata": {},
   "source": [
    "Reload the drop ids:"
   ]
  },
  {
   "cell_type": "code",
   "execution_count": 20,
   "metadata": {},
   "outputs": [],
   "source": [
    "PATH_DROP = os.path.join(PATH, 'results/cleaning/drop_tweets.json')\n",
    "drop_tweets = json.load(open(PATH_DROP, 'r'))\n",
    "PATH_DROP = os.path.join(PATH, 'results/cleaning/drop_users.json')\n",
    "drop_users = json.load(open(PATH_DROP, 'r'))\n",
    "PATH_PREPROCESSED = os.path.join(PATH, 'data/clean')\n",
    "PATH_EMBEDDINGS = '/home/piotr/nlp/cc.pl.300.vec'\n",
    "\n",
    "#filter function:\n",
    "def filter_fun(df, drop_users, drop_tweets, drop_duplicates = True):\n",
    "    df = df[np.logical_not(df['user-id_str'].isin(drop_users))] #drop IDs that are to be excluded\n",
    "    df = df[np.logical_not(df['id_str'].isin(drop_tweets))]\n",
    "    if drop_duplicates:\n",
    "        df.drop_duplicates(inplace = True)\n",
    "    return df\n",
    "ff = partial(filter_fun, drop_users = drop_users, drop_tweets = drop_tweets, drop_duplicates = True)"
   ]
  },
  {
   "cell_type": "markdown",
   "metadata": {},
   "source": [
    "#### Train the outlier detector:"
   ]
  },
  {
   "cell_type": "code",
   "execution_count": 23,
   "metadata": {},
   "outputs": [],
   "source": [
    "PATH_DETECTOR = os.path.join(PATH, 'results/cleaning/outlier_detector.p')\n",
    "if os.path.isfile(PATH_DETECTOR):\n",
    "    detector = pickle.load(open(PATH_DETECTOR, 'rb'))\n",
    "else:\n",
    "    with ProgressBar():\n",
    "        data = read_files(PATH_PREPROCESSED, day_from = START, day_to = END, method = 'dask', filter_fun = ff,\n",
    "                          usecols = ['lemmatized','user-id_str','id_str'], dtype = dtypes)\n",
    "        #get a sample to train the detector:\n",
    "        train = data.sample(0.05).compute()\n",
    "        train.lemmatized = train.lemmatized.progress_apply(lambda x: [w for w in x.split() if w not in stopwords])\n",
    "        detector = OutlierDetector(PATH_EMBEDDINGS, IsolationForest(n_jobs = 3), a = 0.01) #init detector\n",
    "        detector.fit(train.lemmatized)\n",
    "        pickle.dump(detector, open(PATH_DETECTOR, 'wb')) #save model"
   ]
  },
  {
   "cell_type": "markdown",
   "metadata": {},
   "source": [
    "Predict on unique:"
   ]
  },
  {
   "cell_type": "code",
   "execution_count": null,
   "metadata": {},
   "outputs": [],
   "source": [
    "data = read_files(PATH_PREPROCESSED, day_from = START, day_to = END, method = 'dask', filter_fun = ff,\n",
    "                  usecols = ['lemmatized','user-id_str','id_str', 'day'], dtype = dtypes)\n",
    "pred_fun = lambda x: detector.predict([w for w in x.split() if w not in stopwords])\n",
    "#predict outliers\n",
    "with ProgressBar():\n",
    "    outliers = data['lemmatized'][data.groupby('day').lemmatized.apply(pred_fun, meta = ('lemmatized','float')) < 0].compute()"
   ]
  },
  {
   "cell_type": "markdown",
   "metadata": {},
   "source": [
    "Now load the data again without dropping the duplicates and get a list of all tweet ids tagged as duplicates"
   ]
  },
  {
   "cell_type": "code",
   "execution_count": null,
   "metadata": {},
   "outputs": [],
   "source": [
    "ff = partial(filter_fun, drop_users = drop_users, drop_tweets = drop_tweets, drop_duplicates = False)\n",
    "data = read_files(PATH_DATA, day_from = START, day_to = END, method = 'dask', filter_fun = ff,\n",
    "                  usecols = ['lemmatized','user-id_str','id_str'], dtype = dtypes)\n",
    "with ProgressBar():\n",
    "    outliers_text = data.loc[outliers == 1]['lemmatized'].tolist().compute()\n",
    "    print(outliers_text[:50])\n",
    "    outlier_ids = data.loc[data['lemmatized'].isin(outliers_text), ('id_str')].compute()"
   ]
  },
  {
   "cell_type": "markdown",
   "metadata": {},
   "source": [
    "## Final step\n",
    "Get ids of all tweets that should be removed based on the previous analysis + all with below 0.5 words in Polish"
   ]
  },
  {
   "cell_type": "code",
   "execution_count": 32,
   "metadata": {},
   "outputs": [],
   "source": [
    "drop_users = json.load(open(os.path.join(path, 'results/cleaning/users_drop_ids.json'), 'r'))\n",
    "outliers = json.load(open(os.path.join(path, 'results/cleaning/outliers.json'), 'r'))\n",
    "def get_ids(df, drop_users: list, drop_tweets: list):\n",
    "    drop = df['user-id_str'].isin(drop_users) #drop users that are to be excluded\n",
    "    drop |= df['id_str'].isin(drop_tweets) #drop tweets that are to be excluded\n",
    "    drop |= df.polish.astype(float) < 0.5 #drop tweets with less than 50% Polish\n",
    "    ids = df.loc[drop, ('id_str')].tolist() #get ids\n",
    "    return ids"
   ]
  },
  {
   "cell_type": "code",
   "execution_count": 37,
   "metadata": {},
   "outputs": [],
   "source": [
    "path_tmp = os.path.join(path, 'results/cleaning/DROP_IDS.json')\n",
    "if not os.path.isfile(path_tmp):\n",
    "    ids_drop = []\n",
    "    for df in tqdm(read_files(path_preprocessed, 84, prefixes = [\"opp\", \"gov\"], dtype = str)):\n",
    "        ids_drop.extend(get_ids(df, drop_users = drop_users, drop_tweets = outliers))\n",
    "    json.dump(ids_drop, open(path_tmp, 'w'))"
   ]
  },
  {
   "cell_type": "code",
   "execution_count": null,
   "metadata": {},
   "outputs": [],
   "source": []
  }
 ],
 "metadata": {
  "kernelspec": {
   "display_name": "Python [conda env:nlp]",
   "language": "python",
   "name": "conda-env-nlp-py"
  },
  "language_info": {
   "codemirror_mode": {
    "name": "ipython",
    "version": 3
   },
   "file_extension": ".py",
   "mimetype": "text/x-python",
   "name": "python",
   "nbconvert_exporter": "python",
   "pygments_lexer": "ipython3",
   "version": "3.8.3"
  }
 },
 "nbformat": 4,
 "nbformat_minor": 4
}
