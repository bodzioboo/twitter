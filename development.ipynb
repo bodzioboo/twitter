{
 "cells": [
  {
   "cell_type": "markdown",
   "metadata": {},
   "source": [
    "# Development\n",
    "This is a working file in which I develop different elements of the project"
   ]
  },
  {
   "cell_type": "markdown",
   "metadata": {},
   "source": [
    "### All libraries that I could possibly need"
   ]
  },
  {
   "cell_type": "code",
   "execution_count": 1,
   "metadata": {},
   "outputs": [],
   "source": [
    "from twitter_cleaner import TweetCleaner\n",
    "import pandas as pd\n",
    "import time\n",
    "import csv\n",
    "import json\n",
    "from sklearn.feature_extraction.text import CountVectorizer\n",
    "import numpy as np\n",
    "import gc\n",
    "import operator\n",
    "import itertools\n",
    "import pdb\n",
    "import nltk\n",
    "from nltk import FreqDist\n",
    "import scipy as sp \n",
    "import collections\n",
    "import random\n",
    "import csv\n",
    "from tqdm import trange\n",
    "import datetime\n",
    "import matplotlib.pyplot as plt\n",
    "import os\n",
    "import sys"
   ]
  },
  {
   "cell_type": "markdown",
   "metadata": {},
   "source": [
    "## Cleaner"
   ]
  },
  {
   "cell_type": "markdown",
   "metadata": {},
   "source": [
    "Clean the test folder"
   ]
  },
  {
   "cell_type": "code",
   "execution_count": null,
   "metadata": {},
   "outputs": [],
   "source": [
    "tmp = json.load(open(\"cleaner.config\",\"r\"))\n",
    "tmp.pop('test/fala.csv')\n",
    "json.dump(tmp,open(\"cleaner.config\",\"w\"))\n",
    "!cd test && ls | grep fala_clean | xargs rm"
   ]
  },
  {
   "cell_type": "markdown",
   "metadata": {},
   "source": [
    "Run cleaner"
   ]
  },
  {
   "cell_type": "code",
   "execution_count": null,
   "metadata": {},
   "outputs": [],
   "source": [
    "cleaner = TweetCleaner(\"cleaner.config\")\n",
    "begin = time.time()\n",
    "cleaner.clean(\"data/fala.csv\", \"test/fala_clean.csv\", \n",
    "              path_stopwords = \"nlp/polish.stopwords.txt\", chunk_size = 100000)\n",
    "end = time.time()\n",
    "print(f\"Runtime {end - begin}\")"
   ]
  },
  {
   "cell_type": "markdown",
   "metadata": {},
   "source": [
    "## Estimator"
   ]
  },
  {
   "cell_type": "code",
   "execution_count": 2,
   "metadata": {},
   "outputs": [],
   "source": [
    "gov_data = pd.read_csv(\"data/clean/gov_tweets_clean_2020_03_29.csv\", header = 0, index_col = False, dtype = str)\n",
    "gov_data[\"source\"] = \"government\"\n",
    "gov_data = gov_data.loc[gov_data.created_at.notna()]\n",
    "gov_data = gov_data.drop(columns = [\"index\"])\n",
    "gov_data[\"created_at\"] = pd.to_datetime(gov_data[\"created_at\"], format = \"%a %b %d %H:%M:%S +0000 %Y\")\n",
    "gov_data[\"day\"] = gov_data.created_at.dt.to_period(\"D\")\n",
    "gov_data = gov_data.loc[gov_data[\"day\"] == pd.Period('2020-03-29', 'D')].reset_index()"
   ]
  },
  {
   "cell_type": "code",
   "execution_count": 3,
   "metadata": {
    "scrolled": true
   },
   "outputs": [],
   "source": [
    "opp_data = pd.read_csv(\"data/clean/opp_tweets_2020_03_29.csv\", header = 0, index_col = False, dtype = str)\n",
    "opp_data[\"source\"] = \"opposition\"\n",
    "opp_data = opp_data.loc[opp_data.created_at.notna()]\n",
    "opp_data = opp_data.drop(columns = [\"index\"])\n",
    "opp_data[\"created_at\"] = pd.to_datetime(opp_data[\"created_at\"], format = \"%a %b %d %H:%M:%S +0000 %Y\")\n",
    "opp_data[\"day\"] = opp_data.created_at.dt.to_period(\"D\")\n",
    "opp_data = opp_data.loc[opp_data[\"day\"] == pd.Period('2020-03-29', 'D')].reset_index()"
   ]
  },
  {
   "cell_type": "code",
   "execution_count": 4,
   "metadata": {},
   "outputs": [
    {
     "data": {
      "text/plain": [
       "68"
      ]
     },
     "execution_count": 4,
     "metadata": {},
     "output_type": "execute_result"
    }
   ],
   "source": [
    "tweet_data = pd.concat([gov_data, opp_data], axis = 0)\n",
    "del(gov_data)\n",
    "del(opp_data)\n",
    "gc.collect()"
   ]
  },
  {
   "cell_type": "code",
   "execution_count": 5,
   "metadata": {},
   "outputs": [],
   "source": [
    "tweet_data.dropna(subset = [\"source\",\"preprocessed\"], inplace = True)"
   ]
  },
  {
   "cell_type": "code",
   "execution_count": 6,
   "metadata": {},
   "outputs": [],
   "source": [
    "def vectorize_data(data, ngram_range, limit):\n",
    "    vectorizer = CountVectorizer(ngram_range = ngram_range)\n",
    "    vectorizer.fit(data)\n",
    "    res = vectorizer.transform(data)\n",
    "    indices = np.where(np.array(res.sum(axis = 0)).flatten() > limit)[0]\n",
    "    #names = vectorizer.get_feature_names()\n",
    "    res = res[:,indices]\n",
    "    #names = operator.itemgetter(*indices)(names)\n",
    "\n",
    "    return res"
   ]
  },
  {
   "cell_type": "markdown",
   "metadata": {},
   "source": [
    "## Plug-in estimator of partisanship"
   ]
  },
  {
   "cell_type": "code",
   "execution_count": 9,
   "metadata": {},
   "outputs": [
    {
     "data": {
      "text/plain": [
       "8"
      ]
     },
     "execution_count": 9,
     "metadata": {},
     "output_type": "execute_result"
    }
   ],
   "source": [
    "#vectorize the data\n",
    "data = vectorize_data(tweet_data[\"preprocessed\"],ngram_range = (2,2), limit = 10)\n",
    "\n",
    "#speaker phrase counts\n",
    "counts = dict()\n",
    "zipper = zip(tweet_data[\"source\"].tolist(), tweet_data[\"user-id_str\"].tolist(), data)\n",
    "for g, elem in itertools.groupby(zipper,lambda x: (x[0],x[1])):\n",
    "    counts[g] = sp.sparse.vstack(list(i for _, _, i in elem))\n",
    "counts = {k:np.array(v.sum(axis = 0)).flatten() for k, v in counts.items() if v.sum() > 0}\n",
    "del(data, tweet_data)\n",
    "gc.collect()"
   ]
  },
  {
   "cell_type": "code",
   "execution_count": 10,
   "metadata": {},
   "outputs": [
    {
     "name": "stdout",
     "output_type": "stream",
     "text": [
      "0.780099488861822\n"
     ]
    }
   ],
   "source": [
    "#Party-wise total phrase counts\n",
    "party_counts = collections.defaultdict(lambda: [])\n",
    "for g, elem in itertools.groupby(zip(counts.keys(), counts.values()), lambda x: x[0][0]):\n",
    "    party_counts[g].extend(list(i for _,i in elem))\n",
    "\n",
    "#empirical party frequencies\n",
    "party_freq = {k:np.vstack(v).sum(axis = 0) for k, v in party_counts.items()}\n",
    "party_freq = {k:v/v.sum() for k, v in party_freq.items()}\n",
    "\n",
    "#posterior belief that an observer with neutral prior assigns the true party:\n",
    "posterior = party_freq[\"government\"]/(party_freq[\"government\"] + party_freq[\"opposition\"])\n",
    "\n",
    "\n",
    "#partisanship plug-in estimator\n",
    "plug_in = np.sum(0.5*party_freq[\"government\"] * posterior + 0.5*party_freq[\"opposition\"]*(1 - posterior))\n",
    "print(plug_in)"
   ]
  },
  {
   "cell_type": "markdown",
   "metadata": {},
   "source": [
    "## Leave-out estimator of partisanship"
   ]
  },
  {
   "cell_type": "code",
   "execution_count": 11,
   "metadata": {},
   "outputs": [],
   "source": [
    "c_mat = sp.sparse.csr_matrix(np.vstack(list(counts.values())))\n",
    "parties = np.array(list(party for party, id in counts.keys()))\n",
    "indg = parties == \"government\"\n",
    "indo = parties == \"opposition\""
   ]
  },
  {
   "cell_type": "code",
   "execution_count": 12,
   "metadata": {},
   "outputs": [
    {
     "name": "stderr",
     "output_type": "stream",
     "text": [
      "/home/piotr/anaconda3/lib/python3.7/site-packages/ipykernel_launcher.py:7: RuntimeWarning: invalid value encountered in true_divide\n",
      "  import sys\n",
      "/home/piotr/anaconda3/lib/python3.7/site-packages/ipykernel_launcher.py:7: RuntimeWarning: invalid value encountered in true_divide\n",
      "  import sys\n",
      "/home/piotr/anaconda3/lib/python3.7/site-packages/ipykernel_launcher.py:7: RuntimeWarning: invalid value encountered in true_divide\n",
      "  import sys\n",
      "/home/piotr/anaconda3/lib/python3.7/site-packages/ipykernel_launcher.py:7: RuntimeWarning: invalid value encountered in true_divide\n",
      "  import sys\n",
      "/home/piotr/anaconda3/lib/python3.7/site-packages/ipykernel_launcher.py:7: RuntimeWarning: invalid value encountered in true_divide\n",
      "  import sys\n",
      "/home/piotr/anaconda3/lib/python3.7/site-packages/ipykernel_launcher.py:7: RuntimeWarning: invalid value encountered in true_divide\n",
      "  import sys\n",
      "/home/piotr/anaconda3/lib/python3.7/site-packages/ipykernel_launcher.py:7: RuntimeWarning: invalid value encountered in true_divide\n",
      "  import sys\n"
     ]
    }
   ],
   "source": [
    "leave_out = collections.defaultdict(lambda: [])\n",
    "zipper = zip(counts.keys(), c_mat)\n",
    "for i, (g, val) in enumerate(itertools.groupby(zipper, lambda x:x[0])):\n",
    "    ind = np.arange(c_mat.shape[0]) != i\n",
    "    qg = np.sum(c_mat[ind & indg], axis = 0)\n",
    "    qo = np.sum(c_mat[ind & indo], axis = 0)\n",
    "    leave_out[g[0]].extend(np.array(qg/(qo+qg)))\n",
    "leave_out = {k:np.nan_to_num(np.vstack(v),copy = False,nan = 0.0) for k, v in leave_out.items()}"
   ]
  },
  {
   "cell_type": "code",
   "execution_count": 13,
   "metadata": {},
   "outputs": [],
   "source": [
    "speaker_freq = collections.defaultdict(lambda: [])\n",
    "for g, elem in itertools.groupby(zip(parties, counts.values()), lambda x: x[0]):\n",
    "    speaker_freq[g].extend(list(i/i.sum() for _, i in elem))\n",
    "speaker_freq = {k:np.vstack(v) for k, v in speaker_freq.items()}"
   ]
  },
  {
   "cell_type": "code",
   "execution_count": 14,
   "metadata": {},
   "outputs": [],
   "source": [
    "gov = 0.5*(1/len(speaker_freq[\"government\"]))*np.sum(speaker_freq[\"government\"] * leave_out[\"government\"])\n",
    "opp = 0.5*(1/len(speaker_freq[\"opposition\"]))*np.sum(speaker_freq[\"opposition\"] * (1 - leave_out[\"opposition\"]))"
   ]
  },
  {
   "cell_type": "code",
   "execution_count": 15,
   "metadata": {
    "scrolled": true
   },
   "outputs": [
    {
     "data": {
      "text/plain": [
       "0.6675961936352196"
      ]
     },
     "execution_count": 15,
     "metadata": {},
     "output_type": "execute_result"
    }
   ],
   "source": [
    "gov + opp"
   ]
  },
  {
   "cell_type": "code",
   "execution_count": 6,
   "metadata": {},
   "outputs": [],
   "source": [
    "class ModelPolarization:\n",
    "    def __init__(self, parties, speakers, text):\n",
    "        text = self.vectorize_data(text, ngram_range = (2,2), limit = 10) #vectorize\n",
    "        self.party = np.unique(parties) #store party names\n",
    "        \n",
    "        #get counts of each bigram for each speaker:\n",
    "        zipper = sorted(zip(parties, speakers, text), key = lambda x:(x[0], x[1]))\n",
    "        self.counts = dict()\n",
    "        for g, elem in itertools.groupby(zipper,lambda x: (x[0],x[1])):\n",
    "            self.counts[g] = sp.sparse.vstack(list(i for _, _, i in elem))\n",
    "        self.counts = {k:np.array(v.sum(axis = 0)).flatten() for k, v in self.counts.items() if v.sum() > 0}\n",
    "        \n",
    "    \n",
    "    def vectorize_data(self, data, ngram_range, limit):\n",
    "        vectorizer = CountVectorizer(ngram_range = ngram_range)\n",
    "        vectorizer.fit(data)\n",
    "        res = vectorizer.transform(data)\n",
    "        indices = np.where(np.array(res.sum(axis = 0)).flatten() > limit)[0]\n",
    "        #names = vectorizer.get_feature_names()\n",
    "        res = res[:,indices]\n",
    "        #names = operator.itemgetter(*indices)(names)\n",
    "\n",
    "        return res\n",
    "    \n",
    "    def plug_in(self, counts = None, confidence_interval = None):\n",
    "        if not counts:\n",
    "            counts = self.counts\n",
    "        #Party-wise total phrase counts\n",
    "        party_counts = collections.defaultdict(lambda: [])\n",
    "        for g, elem in itertools.groupby(zip(counts.keys(), counts.values()), lambda x: x[0][0]):\n",
    "            party_counts[g].extend(list(i for _,i in elem))\n",
    "\n",
    "        #empirical party frequencies\n",
    "        party_freq = {k:np.vstack(v).sum(axis = 0) for k, v in party_counts.items()}\n",
    "        party_freq = {k:v/v.sum() for k, v in party_freq.items()}\n",
    "\n",
    "        #posterior belief that an observer with neutral prior assigns the true party:\n",
    "        posterior = party_freq[self.party[0]]/(party_freq[self.party[0]] + party_freq[self.party[1]])\n",
    "        \n",
    "        \n",
    "        results = dict()\n",
    "\n",
    "        #partisanship plug-in estimator\n",
    "        results[\"point\"] = np.sum(0.5*party_freq[self.party[0]] * posterior + 0.5*party_freq[self.party[1]]*(1 - posterior))\n",
    "        \n",
    "        if confidence_interval:\n",
    "            results[\"samples\"] = []\n",
    "            \n",
    "            for i in trange(confidence_interval):\n",
    "                popsize = len(self.counts.keys())\n",
    "                sampsize = int(round(popsize/10))\n",
    "                inds = random.sample(range(popsize),sampsize)\n",
    "                sample_keys = [val for i, val in enumerate(self.counts.keys()) if i in inds]\n",
    "                sample = dict(zip(sample_keys, operator.itemgetter(*sample_keys)(self.counts)))\n",
    "                results[\"samples\"].append(self.plug_in(counts = sample, confidence_interval = None))\n",
    "                \n",
    "            return results\n",
    "        \n",
    "        return results[\"point\"]\n",
    "    \n",
    "    \n",
    "    def leave_out(self, counts = None, confidence_interval = None):\n",
    "        \n",
    "        if not counts:\n",
    "            counts = self.counts\n",
    "        \n",
    "        c_mat = sp.sparse.csr_matrix(np.vstack(list(counts.values())))\n",
    "        parties = np.array(list(party for party, id in counts.keys()))\n",
    "        indg = np.array(parties) == self.party[0]\n",
    "        indo = np.array(parties) == self.party[1]\n",
    "        \n",
    "        #get posterior belief of neutral observer for each phrase\n",
    "        posterior = collections.defaultdict(lambda: [])\n",
    "        zipper = zip(counts.keys(), c_mat)\n",
    "        for i, (g, val) in enumerate(itertools.groupby(zipper, lambda x:x[0])):\n",
    "            ind = np.arange(c_mat.shape[0]) != i\n",
    "            qg = np.sum(c_mat[ind & indg], axis = 0)\n",
    "            qo = np.sum(c_mat[ind & indo], axis = 0)\n",
    "            posterior[g[0]].extend(np.array(qg/(qo+qg)))\n",
    "        posterior = {k:np.nan_to_num(np.vstack(v),copy = False,nan = 0.0) for k, v in posterior.items()}\n",
    "        \n",
    "        \n",
    "        #get speaker phrase frequencies\n",
    "        speaker_freq = collections.defaultdict(lambda: [])\n",
    "        for g, elem in itertools.groupby(zip(parties, counts.values()), lambda x: x[0]):\n",
    "            speaker_freq[g].extend(list(i/i.sum() for _, i in elem))\n",
    "        speaker_freq = {k:np.vstack(v) for k, v in speaker_freq.items()}\n",
    "        \n",
    "        #results\n",
    "        results = dict()\n",
    "        \n",
    "        \n",
    "        \n",
    "        gov = 0.5*(1/len(speaker_freq[self.party[0]]))*np.sum(speaker_freq[self.party[0]] * posterior[self.party[0]])\n",
    "        opp = 0.5*(1/len(speaker_freq[self.party[1]]))*np.sum(speaker_freq[self.party[1]] * (1 - posterior[self.party[1]]))\n",
    "        results[\"point\"] = gov + opp\n",
    "        \n",
    "        if confidence_interval:\n",
    "            results[\"samples\"] = []\n",
    "            \n",
    "            for i in trange(confidence_interval):\n",
    "                popsize = len(self.counts.keys())\n",
    "                sampsize = int(round(popsize/10))\n",
    "                #pdb.set_trace()\n",
    "                inds = random.sample(range(popsize),sampsize)\n",
    "                sample_keys = [val for i, val in enumerate(self.counts.keys()) if i in inds]\n",
    "                sample = dict(zip(sample_keys, operator.itemgetter(*sample_keys)(self.counts)))\n",
    "                results[\"samples\"].append(self.leave_out(counts = sample, confidence_interval = None))\n",
    "            \n",
    "            results[\"lower\"] = np.quantile(results[\"samples\"], 0.025)\n",
    "            results[\"upper\"] = np.quantile(results[\"samples\"], 0.975)\n",
    "                \n",
    "            return results\n",
    "                \n",
    "                \n",
    "                \n",
    "        \n",
    "        return results[\"point\"]"
   ]
  },
  {
   "cell_type": "code",
   "execution_count": 7,
   "metadata": {},
   "outputs": [
    {
     "name": "stderr",
     "output_type": "stream",
     "text": [
      "100%|██████████| 100/100 [00:04<00:00, 23.77it/s]\n",
      "100%|██████████| 100/100 [01:03<00:00,  1.57it/s]\n"
     ]
    }
   ],
   "source": [
    "import warnings\n",
    "warnings.filterwarnings('ignore')\n",
    "parties = tweet_data[\"source\"].tolist()\n",
    "speakers = tweet_data[\"user-id_str\"].tolist()\n",
    "text = tweet_data[\"preprocessed\"].tolist()\n",
    "model = ModelPolarization(parties, speakers, text)\n",
    "plug = model.plug_in(confidence_interval = 100)\n",
    "leave = model.leave_out(confidence_interval = 100)"
   ]
  },
  {
   "cell_type": "code",
   "execution_count": 14,
   "metadata": {},
   "outputs": [
    {
     "data": {
      "text/plain": [
       "0.8337653844168114"
      ]
     },
     "execution_count": 14,
     "metadata": {},
     "output_type": "execute_result"
    }
   ],
   "source": [
    "leave[\"point\"]"
   ]
  },
  {
   "cell_type": "code",
   "execution_count": 13,
   "metadata": {},
   "outputs": [
    {
     "data": {
      "text/plain": [
       "0.8338097711938119"
      ]
     },
     "execution_count": 13,
     "metadata": {},
     "output_type": "execute_result"
    }
   ],
   "source": [
    "np.quantile(leave[\"samples\"], 0.975)"
   ]
  },
  {
   "cell_type": "code",
   "execution_count": 13,
   "metadata": {
    "scrolled": false
   },
   "outputs": [
    {
     "data": {
      "text/plain": [
       "(array([ 1.,  1.,  1.,  8., 21., 30., 19., 13.,  4.,  2.]),\n",
       " array([0.74044524, 0.75083252, 0.76121979, 0.77160707, 0.78199435,\n",
       "        0.79238163, 0.8027689 , 0.81315618, 0.82354346, 0.83393073,\n",
       "        0.84431801]),\n",
       " <a list of 10 Patch objects>)"
      ]
     },
     "execution_count": 13,
     "metadata": {},
     "output_type": "execute_result"
    },
    {
     "data": {
      "image/png": "[encoded data removed]",
      "text/plain": [
       "<Figure size 432x288 with 1 Axes>"
      ]
     },
     "metadata": {
      "needs_background": "light"
     },
     "output_type": "display_data"
    }
   ],
   "source": [
    "plt.hist(leave[\"samples\"])"
   ]
  },
  {
   "cell_type": "code",
   "execution_count": null,
   "metadata": {},
   "outputs": [],
   "source": [
    "def run_models():\n",
    "    results = {\"date\":[], \"plugin\":[], \"leaveout\":[]}\n",
    "    date = pd.Period('2020-02-23', 'D') \n",
    "    for _ in trange(65):\n",
    "        date += 1\n",
    "        gov_data = pd.read_csv(\"data/clean/gov_tweets_clean.csv\", header = 0, index_col = False, dtype = str)\n",
    "        gov_data[\"source\"] = \"government\"\n",
    "        gov_data = gov_data.loc[gov_data.created_at.notna()]\n",
    "        gov_data = gov_data.drop(columns = [\"index\"])\n",
    "        gov_data[\"created_at\"] = pd.to_datetime(gov_data[\"created_at\"], format = \"%a %b %d %H:%M:%S +0000 %Y\")\n",
    "        gov_data[\"day\"] = gov_data.created_at.dt.to_period(\"D\")\n",
    "        gov_data = gov_data.loc[gov_data[\"day\"] == date].reset_index()\n",
    "\n",
    "        opp_data = pd.read_csv(\"data/clean/opp_tweets_clean.csv\", header = 0, index_col = False, dtype = str)\n",
    "        opp_data[\"source\"] = \"opposition\"\n",
    "        opp_data = opp_data.loc[opp_data.created_at.notna()]\n",
    "        opp_data = opp_data.drop(columns = [\"index\"])\n",
    "        opp_data[\"created_at\"] = pd.to_datetime(opp_data[\"created_at\"], format = \"%a %b %d %H:%M:%S +0000 %Y\")\n",
    "        opp_data[\"day\"] = opp_data.created_at.dt.to_period(\"D\")\n",
    "        opp_data = opp_data.loc[opp_data[\"day\"] == date].reset_index()\n",
    "\n",
    "\n",
    "        tweet_data = pd.concat([gov_data, opp_data], axis = 0)\n",
    "        del(gov_data)\n",
    "        del(opp_data)\n",
    "        gc.collect()\n",
    "\n",
    "        tweet_data.dropna(subset = [\"source\",\"preprocessed\"], inplace = True)\n",
    "\n",
    "        model = ModelPolarization(tweet_data[\"source\"].tolist(), tweet_data[\"user-id_str\"].tolist(), tweet_data[\"preprocessed\"].tolist())\n",
    "        results[\"date\"].append(date)\n",
    "        results[\"plugin\"].append(model.plug_in())\n",
    "        results[\"leaveout\"].append(model.leave_out())\n",
    "    results[\"date\"] = list(map(lambda x: x.strftime(\"%Y-%m-%d\"), results[\"date\"]))\n",
    "    return results"
   ]
  }
 ],
 "metadata": {
  "kernelspec": {
   "display_name": "Python 3",
   "language": "python",
   "name": "python3"
  },
  "language_info": {
   "codemirror_mode": {
    "name": "ipython",
    "version": 3
   },
   "file_extension": ".py",
   "mimetype": "text/x-python",
   "name": "python",
   "nbconvert_exporter": "python",
   "pygments_lexer": "ipython3",
   "version": "3.7.4"
  }
 },
 "nbformat": 4,
 "nbformat_minor": 4
}
